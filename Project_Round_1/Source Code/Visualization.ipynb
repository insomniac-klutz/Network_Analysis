{
  "nbformat": 4,
  "nbformat_minor": 0,
  "metadata": {
    "colab": {
      "name": "visual.ipynb",
      "provenance": [],
      "collapsed_sections": []
    },
    "kernelspec": {
      "name": "python3",
      "display_name": "Python 3"
    },
    "language_info": {
      "name": "python"
    }
  },
  "cells": [
    {
      "cell_type": "code",
      "metadata": {
        "id": "ykWnxFhCiRlS"
      },
      "source": [
        "import pandas as pd\n",
        "import numpy as np\n",
        "\n",
        "import seaborn as sns\n",
        "\n",
        "from IPython.display import display"
      ],
      "execution_count": null,
      "outputs": []
    },
    {
      "cell_type": "code",
      "metadata": {
        "id": "jBOoqoJjAvLN",
        "colab": {
          "base_uri": "https://localhost:8080/"
        },
        "outputId": "2018dd31-3efc-4934-8b73-94d713072196"
      },
      "source": [
        "!python --version"
      ],
      "execution_count": null,
      "outputs": [
        {
          "output_type": "stream",
          "text": [
            "Python 3.7.10\n"
          ],
          "name": "stdout"
        }
      ]
    },
    {
      "cell_type": "code",
      "metadata": {
        "colab": {
          "base_uri": "https://localhost:8080/",
          "height": 461
        },
        "id": "1DAdMBASmkw0",
        "outputId": "9e7643dd-715b-4c2f-f63d-412aa760e20e"
      },
      "source": [
        "df=pd.read_csv('/content/drive/MyDrive/Datasets/Networx/Vals/LCC_twitter.csv')\n",
        "display(df['LCC'].describe())\n",
        "sns.boxenplot(x=df['LCC'])"
      ],
      "execution_count": null,
      "outputs": [
        {
          "output_type": "display_data",
          "data": {
            "text/plain": [
              "count    23370.000000\n",
              "mean         0.050875\n",
              "std          0.182641\n",
              "min          0.000000\n",
              "25%          0.000000\n",
              "50%          0.000000\n",
              "75%          0.000000\n",
              "max          1.000000\n",
              "Name: LCC, dtype: float64"
            ]
          },
          "metadata": {
            "tags": []
          }
        },
        {
          "output_type": "execute_result",
          "data": {
            "text/plain": [
              "<matplotlib.axes._subplots.AxesSubplot at 0x7f0c35b8fd90>"
            ]
          },
          "metadata": {
            "tags": []
          },
          "execution_count": 46
        },
        {
          "output_type": "display_data",
          "data": {
            "image/png": "[encoded data removed]",
            "text/plain": [
              "<Figure size 432x288 with 1 Axes>"
            ]
          },
          "metadata": {
            "tags": [],
            "needs_background": "light"
          }
        }
      ]
    },
    {
      "cell_type": "code",
      "metadata": {
        "colab": {
          "base_uri": "https://localhost:8080/",
          "height": 462
        },
        "id": "a-h5xwIFozez",
        "outputId": "72c7a8b0-517d-48fc-c822-2a63406efde8"
      },
      "source": [
        "df=pd.read_csv('/content/drive/MyDrive/Datasets/Networx/Vals/betweeness_twitter.csv')\n",
        "display(df['betweenness_centrality'].describe())\n",
        "sns.boxenplot(x=df['betweenness_centrality'])"
      ],
      "execution_count": null,
      "outputs": [
        {
          "output_type": "display_data",
          "data": {
            "text/plain": [
              "count    23370.000000\n",
              "mean         0.000207\n",
              "std          0.001559\n",
              "min          0.000000\n",
              "25%          0.000000\n",
              "50%          0.000000\n",
              "75%          0.000000\n",
              "max          0.078441\n",
              "Name: betweenness_centrality, dtype: float64"
            ]
          },
          "metadata": {
            "tags": []
          }
        },
        {
          "output_type": "execute_result",
          "data": {
            "text/plain": [
              "<matplotlib.axes._subplots.AxesSubplot at 0x7f0c35afb990>"
            ]
          },
          "metadata": {
            "tags": []
          },
          "execution_count": 47
        },
        {
          "output_type": "display_data",
          "data": {
            "image/png": "[encoded data removed]",
            "text/plain": [
              "<Figure size 432x288 with 1 Axes>"
            ]
          },
          "metadata": {
            "tags": [],
            "needs_background": "light"
          }
        }
      ]
    },
    {
      "cell_type": "code",
      "metadata": {
        "colab": {
          "base_uri": "https://localhost:8080/",
          "height": 462
        },
        "id": "u-KIUkS5o9gj",
        "outputId": "9d67136c-168b-4950-e173-45910e94f534"
      },
      "source": [
        "df=pd.read_csv('/content/drive/MyDrive/Datasets/Networx/Vals/closeness_twitter.csv')\n",
        "display(df['closeness_centrality'].describe())\n",
        "sns.boxenplot(x=df['closeness_centrality'])"
      ],
      "execution_count": null,
      "outputs": [
        {
          "output_type": "display_data",
          "data": {
            "text/plain": [
              "count    23370.000000\n",
              "mean         0.000175\n",
              "std          0.000223\n",
              "min          0.000000\n",
              "25%          0.000043\n",
              "50%          0.000068\n",
              "75%          0.000210\n",
              "max          0.002782\n",
              "Name: closeness_centrality, dtype: float64"
            ]
          },
          "metadata": {
            "tags": []
          }
        },
        {
          "output_type": "execute_result",
          "data": {
            "text/plain": [
              "<matplotlib.axes._subplots.AxesSubplot at 0x7f0c35a85810>"
            ]
          },
          "metadata": {
            "tags": []
          },
          "execution_count": 48
        },
        {
          "output_type": "display_data",
          "data": {
            "image/png": "[encoded data removed]",
            "text/plain": [
              "<Figure size 432x288 with 1 Axes>"
            ]
          },
          "metadata": {
            "tags": [],
            "needs_background": "light"
          }
        }
      ]
    },
    {
      "cell_type": "code",
      "metadata": {
        "colab": {
          "base_uri": "https://localhost:8080/",
          "height": 462
        },
        "id": "iYLF2bRHpXnw",
        "outputId": "af45856d-1d34-48fe-a356-eb8f74b91e34"
      },
      "source": [
        "df=pd.read_csv('/content/drive/MyDrive/Datasets/Networx/Vals/eigenvector__twitter.csv')\n",
        "display(df['eigenvector_centrality'].describe())\n",
        "sns.boxenplot(x=df['eigenvector_centrality'])"
      ],
      "execution_count": null,
      "outputs": [
        {
          "output_type": "display_data",
          "data": {
            "text/plain": [
              "count    2.337000e+04\n",
              "mean     5.940669e-04\n",
              "std      6.514507e-03\n",
              "min      4.850795e-38\n",
              "25%      2.085842e-36\n",
              "50%      7.143960e-33\n",
              "75%      3.461234e-15\n",
              "max      1.950662e-01\n",
              "Name: eigenvector_centrality, dtype: float64"
            ]
          },
          "metadata": {
            "tags": []
          }
        },
        {
          "output_type": "execute_result",
          "data": {
            "text/plain": [
              "<matplotlib.axes._subplots.AxesSubplot at 0x7f0c35a47c90>"
            ]
          },
          "metadata": {
            "tags": []
          },
          "execution_count": 49
        },
        {
          "output_type": "display_data",
          "data": {
            "image/png": "[encoded data removed]",
            "text/plain": [
              "<Figure size 432x288 with 1 Axes>"
            ]
          },
          "metadata": {
            "tags": [],
            "needs_background": "light"
          }
        }
      ]
    },
    {
      "cell_type": "code",
      "metadata": {
        "colab": {
          "base_uri": "https://localhost:8080/",
          "height": 462
        },
        "id": "njoMtoIHpPMj",
        "outputId": "4b2b997f-8eb7-4949-9a66-37effb546026"
      },
      "source": [
        "df=pd.read_csv('/content/drive/MyDrive/Datasets/Networx/Vals/katz_twitter.csv')\n",
        "display(df['katz_centrality'].describe())\n",
        "sns.boxenplot(x=df['katz_centrality'])"
      ],
      "execution_count": null,
      "outputs": [
        {
          "output_type": "display_data",
          "data": {
            "text/plain": [
              "count    23370.000000\n",
              "mean         0.001986\n",
              "std          0.006233\n",
              "min          0.000608\n",
              "25%          0.000719\n",
              "50%          0.000823\n",
              "75%          0.001039\n",
              "max          0.146960\n",
              "Name: katz_centrality, dtype: float64"
            ]
          },
          "metadata": {
            "tags": []
          }
        },
        {
          "output_type": "execute_result",
          "data": {
            "text/plain": [
              "<matplotlib.axes._subplots.AxesSubplot at 0x7f0c359b2990>"
            ]
          },
          "metadata": {
            "tags": []
          },
          "execution_count": 50
        },
        {
          "output_type": "display_data",
          "data": {
            "image/png": "[encoded data removed]",
            "text/plain": [
              "<Figure size 432x288 with 1 Axes>"
            ]
          },
          "metadata": {
            "tags": [],
            "needs_background": "light"
          }
        }
      ]
    },
    {
      "cell_type": "code",
      "metadata": {
        "colab": {
          "base_uri": "https://localhost:8080/",
          "height": 462
        },
        "id": "kM_CWQZhpTUf",
        "outputId": "adc49ff2-09ee-495a-f7df-98cc1236d774"
      },
      "source": [
        "df=pd.read_csv('/content/drive/MyDrive/Datasets/Networx/Vals/pagerank_twitter.csv')\n",
        "display(df['pagerank_centrality'].describe())\n",
        "sns.boxenplot(x=df['pagerank_centrality'])"
      ],
      "execution_count": null,
      "outputs": [
        {
          "output_type": "display_data",
          "data": {
            "text/plain": [
              "count    23370.000000\n",
              "mean         0.000043\n",
              "std          0.000003\n",
              "min          0.000041\n",
              "25%          0.000042\n",
              "50%          0.000042\n",
              "75%          0.000043\n",
              "max          0.000189\n",
              "Name: pagerank_centrality, dtype: float64"
            ]
          },
          "metadata": {
            "tags": []
          }
        },
        {
          "output_type": "execute_result",
          "data": {
            "text/plain": [
              "<matplotlib.axes._subplots.AxesSubplot at 0x7f0c35995450>"
            ]
          },
          "metadata": {
            "tags": []
          },
          "execution_count": 51
        },
        {
          "output_type": "display_data",
          "data": {
            "image/png": "[encoded data removed]",
            "text/plain": [
              "<Figure size 432x288 with 1 Axes>"
            ]
          },
          "metadata": {
            "tags": [],
            "needs_background": "light"
          }
        }
      ]
    },
    {
      "cell_type": "code",
      "metadata": {
        "colab": {
          "base_uri": "https://localhost:8080/",
          "height": 462
        },
        "id": "Au6P5X2spaeI",
        "outputId": "b6a71107-c7d8-4c7b-9e40-0982c4618677"
      },
      "source": [
        "df=pd.read_csv('/content/drive/MyDrive/Datasets/Networx/Vals/degree_twitter.csv')\n",
        "display(df['degree_centrality'].describe())\n",
        "sns.boxenplot(x=df['degree_centrality'])"
      ],
      "execution_count": null,
      "outputs": [
        {
          "output_type": "display_data",
          "data": {
            "text/plain": [
              "count    23370.000000\n",
              "mean         0.000121\n",
              "std          0.000434\n",
              "min          0.000043\n",
              "25%          0.000043\n",
              "50%          0.000043\n",
              "75%          0.000043\n",
              "max          0.010227\n",
              "Name: degree_centrality, dtype: float64"
            ]
          },
          "metadata": {
            "tags": []
          }
        },
        {
          "output_type": "execute_result",
          "data": {
            "text/plain": [
              "<matplotlib.axes._subplots.AxesSubplot at 0x7f0c358fba50>"
            ]
          },
          "metadata": {
            "tags": []
          },
          "execution_count": 52
        },
        {
          "output_type": "display_data",
          "data": {
            "image/png": "[encoded data removed]",
            "text/plain": [
              "<Figure size 432x288 with 1 Axes>"
            ]
          },
          "metadata": {
            "tags": [],
            "needs_background": "light"
          }
        }
      ]
    },
    {
      "cell_type": "markdown",
      "metadata": {
        "id": "99D1i-7yp4KY"
      },
      "source": [
        "Emails"
      ]
    },
    {
      "cell_type": "code",
      "metadata": {
        "colab": {
          "base_uri": "https://localhost:8080/",
          "height": 461
        },
        "id": "e9285eoEp2B4",
        "outputId": "adaac9c3-9dce-4b92-d4a6-6a05700f1050"
      },
      "source": [
        "df=pd.read_csv('/content/drive/MyDrive/Datasets/Networx/Vals/LCC_email.csv')\n",
        "display(df['LCC'].describe())\n",
        "sns.boxenplot(x=df['LCC'])"
      ],
      "execution_count": null,
      "outputs": [
        {
          "output_type": "display_data",
          "data": {
            "text/plain": [
              "count    1005.000000\n",
              "mean        0.365661\n",
              "std         0.240613\n",
              "min         0.000000\n",
              "25%         0.234752\n",
              "50%         0.340164\n",
              "75%         0.486413\n",
              "max         1.000000\n",
              "Name: LCC, dtype: float64"
            ]
          },
          "metadata": {
            "tags": []
          }
        },
        {
          "output_type": "execute_result",
          "data": {
            "text/plain": [
              "<matplotlib.axes._subplots.AxesSubplot at 0x7f0c358d8d50>"
            ]
          },
          "metadata": {
            "tags": []
          },
          "execution_count": 53
        },
        {
          "output_type": "display_data",
          "data": {
            "image/png": "[encoded data removed]",
            "text/plain": [
              "<Figure size 432x288 with 1 Axes>"
            ]
          },
          "metadata": {
            "tags": [],
            "needs_background": "light"
          }
        }
      ]
    },
    {
      "cell_type": "code",
      "metadata": {
        "colab": {
          "base_uri": "https://localhost:8080/",
          "height": 462
        },
        "id": "MKjRV5xPp2CA",
        "outputId": "60897801-a0ff-40d2-a544-88c1b023d298"
      },
      "source": [
        "df=pd.read_csv('/content/drive/MyDrive/Datasets/Networx/Vals/betweeness_emails.csv')\n",
        "display(df['betweenness_centrality'].describe())\n",
        "sns.boxenplot(x=df['betweenness_centrality'])"
      ],
      "execution_count": null,
      "outputs": [
        {
          "output_type": "display_data",
          "data": {
            "text/plain": [
              "count    1005.000000\n",
              "mean        0.001523\n",
              "std         0.004408\n",
              "min         0.000000\n",
              "25%         0.000006\n",
              "50%         0.000175\n",
              "75%         0.001251\n",
              "max         0.087415\n",
              "Name: betweenness_centrality, dtype: float64"
            ]
          },
          "metadata": {
            "tags": []
          }
        },
        {
          "output_type": "execute_result",
          "data": {
            "text/plain": [
              "<matplotlib.axes._subplots.AxesSubplot at 0x7f0c358351d0>"
            ]
          },
          "metadata": {
            "tags": []
          },
          "execution_count": 54
        },
        {
          "output_type": "display_data",
          "data": {
            "image/png": "[encoded data removed]",
            "text/plain": [
              "<Figure size 432x288 with 1 Axes>"
            ]
          },
          "metadata": {
            "tags": [],
            "needs_background": "light"
          }
        }
      ]
    },
    {
      "cell_type": "code",
      "metadata": {
        "colab": {
          "base_uri": "https://localhost:8080/",
          "height": 462
        },
        "id": "jL5NJRDfp2CD",
        "outputId": "83c5ea15-6d71-4406-90d2-ec2d68d07f68"
      },
      "source": [
        "df=pd.read_csv('/content/drive/MyDrive/Datasets/Networx/Vals/closeness_email.csv')\n",
        "display(df['closeness_centrality'].describe())\n",
        "sns.boxenplot(x=df['closeness_centrality'])"
      ],
      "execution_count": null,
      "outputs": [
        {
          "output_type": "display_data",
          "data": {
            "text/plain": [
              "count    1005.000000\n",
              "mean        0.302134\n",
              "std         0.075034\n",
              "min         0.000000\n",
              "25%         0.278571\n",
              "50%         0.312840\n",
              "75%         0.343404\n",
              "max         0.449669\n",
              "Name: closeness_centrality, dtype: float64"
            ]
          },
          "metadata": {
            "tags": []
          }
        },
        {
          "output_type": "execute_result",
          "data": {
            "text/plain": [
              "<matplotlib.axes._subplots.AxesSubplot at 0x7f0c3580d7d0>"
            ]
          },
          "metadata": {
            "tags": []
          },
          "execution_count": 55
        },
        {
          "output_type": "display_data",
          "data": {
            "image/png": "[encoded data removed]",
            "text/plain": [
              "<Figure size 432x288 with 1 Axes>"
            ]
          },
          "metadata": {
            "tags": [],
            "needs_background": "light"
          }
        }
      ]
    },
    {
      "cell_type": "code",
      "metadata": {
        "colab": {
          "base_uri": "https://localhost:8080/",
          "height": 462
        },
        "id": "2U_gwjYip2CG",
        "outputId": "bd2eb0a6-15a5-48cd-81ab-e1572ab1dfe8"
      },
      "source": [
        "df=pd.read_csv('/content/drive/MyDrive/Datasets/Networx/Vals/eigenvector_email.csv')\n",
        "display(df['eigenvector_centrality'].describe())\n",
        "sns.boxenplot(x=df['eigenvector_centrality'])"
      ],
      "execution_count": null,
      "outputs": [
        {
          "output_type": "display_data",
          "data": {
            "text/plain": [
              "count    1.005000e+03\n",
              "mean     1.969421e-02\n",
              "std      2.465295e-02\n",
              "min      1.225420e-23\n",
              "25%      2.996627e-03\n",
              "50%      1.023744e-02\n",
              "75%      2.607604e-02\n",
              "max      1.492083e-01\n",
              "Name: eigenvector_centrality, dtype: float64"
            ]
          },
          "metadata": {
            "tags": []
          }
        },
        {
          "output_type": "execute_result",
          "data": {
            "text/plain": [
              "<matplotlib.axes._subplots.AxesSubplot at 0x7f0c357c4590>"
            ]
          },
          "metadata": {
            "tags": []
          },
          "execution_count": 56
        },
        {
          "output_type": "display_data",
          "data": {
            "image/png": "[encoded data removed]",
            "text/plain": [
              "<Figure size 432x288 with 1 Axes>"
            ]
          },
          "metadata": {
            "tags": [],
            "needs_background": "light"
          }
        }
      ]
    },
    {
      "cell_type": "code",
      "metadata": {
        "colab": {
          "base_uri": "https://localhost:8080/",
          "height": 462
        },
        "id": "v5H18g5_p2CI",
        "outputId": "69cdabfd-a76d-4dbc-d291-4528a4781e24"
      },
      "source": [
        "df=pd.read_csv('/content/drive/MyDrive/Datasets/Networx/Vals/katz_emails.csv')\n",
        "display(df['katz_centrality'].describe())\n",
        "sns.boxenplot(x=df['katz_centrality'])"
      ],
      "execution_count": null,
      "outputs": [
        {
          "output_type": "display_data",
          "data": {
            "text/plain": [
              "count    1005.000000\n",
              "mean        0.020799\n",
              "std         0.023728\n",
              "min         0.000502\n",
              "25%         0.003981\n",
              "50%         0.014035\n",
              "75%         0.028526\n",
              "max         0.209358\n",
              "Name: katz_centrality, dtype: float64"
            ]
          },
          "metadata": {
            "tags": []
          }
        },
        {
          "output_type": "execute_result",
          "data": {
            "text/plain": [
              "<matplotlib.axes._subplots.AxesSubplot at 0x7f0c35752a90>"
            ]
          },
          "metadata": {
            "tags": []
          },
          "execution_count": 57
        },
        {
          "output_type": "display_data",
          "data": {
            "image/png": "[encoded data removed]",
            "text/plain": [
              "<Figure size 432x288 with 1 Axes>"
            ]
          },
          "metadata": {
            "tags": [],
            "needs_background": "light"
          }
        }
      ]
    },
    {
      "cell_type": "code",
      "metadata": {
        "colab": {
          "base_uri": "https://localhost:8080/",
          "height": 462
        },
        "id": "U9HysQmep2CK",
        "outputId": "387a9f0c-01e2-4a29-844b-278d99dd73e9"
      },
      "source": [
        "df=pd.read_csv('/content/drive/MyDrive/Datasets/Networx/Vals/pagerank_email.csv')\n",
        "display(df['pagerank_centrality'].describe())\n",
        "sns.boxenplot(x=df['pagerank_centrality'])"
      ],
      "execution_count": null,
      "outputs": [
        {
          "output_type": "display_data",
          "data": {
            "text/plain": [
              "count    1005.000000\n",
              "mean        0.000995\n",
              "std         0.000882\n",
              "min         0.000183\n",
              "25%         0.000379\n",
              "50%         0.000780\n",
              "75%         0.001290\n",
              "max         0.009412\n",
              "Name: pagerank_centrality, dtype: float64"
            ]
          },
          "metadata": {
            "tags": []
          }
        },
        {
          "output_type": "execute_result",
          "data": {
            "text/plain": [
              "<matplotlib.axes._subplots.AxesSubplot at 0x7f0c3569f650>"
            ]
          },
          "metadata": {
            "tags": []
          },
          "execution_count": 58
        },
        {
          "output_type": "display_data",
          "data": {
            "image/png": "[encoded data removed]",
            "text/plain": [
              "<Figure size 432x288 with 1 Axes>"
            ]
          },
          "metadata": {
            "tags": [],
            "needs_background": "light"
          }
        }
      ]
    },
    {
      "cell_type": "code",
      "metadata": {
        "colab": {
          "base_uri": "https://localhost:8080/",
          "height": 462
        },
        "id": "ynumeYtop2CM",
        "outputId": "fc9f051e-c0e8-4fe8-bc66-3248c5199098"
      },
      "source": [
        "df=pd.read_csv('/content/drive/MyDrive/Datasets/Networx/Vals/degree_email.csv')\n",
        "display(df['degree_centrality'].describe())\n",
        "sns.boxenplot(x=df['degree_centrality'])"
      ],
      "execution_count": null,
      "outputs": [
        {
          "output_type": "display_data",
          "data": {
            "text/plain": [
              "count    1005.000000\n",
              "mean        0.050685\n",
              "std         0.059918\n",
              "min         0.000996\n",
              "25%         0.007968\n",
              "50%         0.031873\n",
              "75%         0.070717\n",
              "max         0.543825\n",
              "Name: degree_centrality, dtype: float64"
            ]
          },
          "metadata": {
            "tags": []
          }
        },
        {
          "output_type": "execute_result",
          "data": {
            "text/plain": [
              "<matplotlib.axes._subplots.AxesSubplot at 0x7f0c3568ca50>"
            ]
          },
          "metadata": {
            "tags": []
          },
          "execution_count": 59
        },
        {
          "output_type": "display_data",
          "data": {
            "image/png": "[encoded data removed]",
            "text/plain": [
              "<Figure size 432x288 with 1 Axes>"
            ]
          },
          "metadata": {
            "tags": [],
            "needs_background": "light"
          }
        }
      ]
    },
    {
      "cell_type": "code",
      "metadata": {
        "id": "YQqe_vAlqR8O"
      },
      "source": [
        ""
      ],
      "execution_count": null,
      "outputs": []
    }
  ]
}