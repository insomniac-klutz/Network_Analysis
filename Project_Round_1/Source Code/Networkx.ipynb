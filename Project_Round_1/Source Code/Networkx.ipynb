{
  "nbformat": 4,
  "nbformat_minor": 0,
  "metadata": {
    "colab": {
      "name": "nx.ipynb",
      "provenance": []
    },
    "kernelspec": {
      "name": "python3",
      "display_name": "Python 3"
    }
  },
  "cells": [
    {
      "cell_type": "code",
      "metadata": {
        "colab": {
          "base_uri": "https://localhost:8080/"
        },
        "id": "wfXZ4x2DeQfd",
        "outputId": "dd342d73-b836-4c3b-e4ba-812b1a918afe"
      },
      "source": [
        "!sudo pip install python-igraph"
      ],
      "execution_count": null,
      "outputs": [
        {
          "output_type": "stream",
          "text": [
            "Requirement already satisfied: python-igraph in /usr/local/lib/python3.7/dist-packages (0.9.0)\n",
            "Requirement already satisfied: texttable>=1.6.2 in /usr/local/lib/python3.7/dist-packages (from python-igraph) (1.6.3)\n"
          ],
          "name": "stdout"
        }
      ]
    },
    {
      "cell_type": "code",
      "metadata": {
        "id": "PlOYVzRNBtWl"
      },
      "source": [
        "from collections import defaultdict #For Automatic Dictionary Initialization\n",
        "\n",
        "import networkx as nx #Network Analysis Module\n",
        "import igraph #Network Analysis Module\n",
        "\n",
        "import pandas as pd #Data I/O\n",
        "import numpy as np #Data Preprocessing\n",
        "\n",
        "from IPython.display import display #Data Output\n",
        "\n",
        "import seaborn as sns #Visulization Library\n",
        "import matplotlib.pyplot as plt #Visulization Library"
      ],
      "execution_count": null,
      "outputs": []
    },
    {
      "cell_type": "code",
      "metadata": {
        "id": "44aqBM5KaXIk"
      },
      "source": [
        "def compute_ratio(G):                   #Computes N_G/N\n",
        "  len_connected_components = [len(c) for c in sorted(nx.connected_components(G), key=len, reverse=True)]\n",
        "  len_giant_connected_component=len_connected_components[0]\n",
        "  ratio=len_giant_connected_component/len(G.nodes())\n",
        "  return ratio\n",
        "\n",
        "def float_range(list,start, stop, step): #Computes float list of numbers \n",
        "  while start < stop:\n",
        "    list.append(float(start))\n",
        "    start += step\n",
        "\n",
        "def global_clustering(G):                 #Computes Global Clustering Coefficient which is equivalent to transitivity in networkx module\n",
        "  gcc=nx.algorithms.cluster.transitivity(G)\n",
        "  return gcc"
      ],
      "execution_count": null,
      "outputs": []
    },
    {
      "cell_type": "code",
      "metadata": {
        "colab": {
          "base_uri": "https://localhost:8080/"
        },
        "id": "A-Vp9bLHEqdC",
        "outputId": "cc82f7a5-ff8c-47fc-9d33-2a1e3f439259"
      },
      "source": [
        "fh = open(\"/content/twitter.tsv\", \"rb\")\n",
        "G = nx.read_edgelist(fh,create_using=nx.DiGraph())\n",
        "fh.close()\n",
        "print(len(G.nodes()))\n",
        "print(len(G.edges()))"
      ],
      "execution_count": null,
      "outputs": [
        {
          "output_type": "stream",
          "text": [
            "23370\n",
            "33101\n"
          ],
          "name": "stdout"
        }
      ]
    },
    {
      "cell_type": "code",
      "metadata": {
        "colab": {
          "base_uri": "https://localhost:8080/",
          "height": 363
        },
        "id": "Tv4NRe_SMuEA",
        "outputId": "8226a259-2ad3-4f76-9b95-e7c1b396ddbf"
      },
      "source": [
        "df=nx.degree_centrality(G)\n",
        "\n",
        "df = [v for v in df.values()]\n",
        "df=pd.DataFrame(df)\n",
        "df.reset_index(inplace=True)\n",
        "df.columns=['Node','degree_centrality']\n",
        "\n",
        "df=df.sort_values(by='degree_centrality',ascending=False)\n",
        "df.reset_index(inplace=True)\n",
        "df=df.drop('index',axis=1)\n",
        "\n",
        "display(df[:10])\n",
        "\n",
        "df.to_csv('degree_twitter.csv')"
      ],
      "execution_count": null,
      "outputs": [
        {
          "output_type": "display_data",
          "data": {
            "text/html": [
              "<div>\n",
              "<style scoped>\n",
              "    .dataframe tbody tr th:only-of-type {\n",
              "        vertical-align: middle;\n",
              "    }\n",
              "\n",
              "    .dataframe tbody tr th {\n",
              "        vertical-align: top;\n",
              "    }\n",
              "\n",
              "    .dataframe thead th {\n",
              "        text-align: right;\n",
              "    }\n",
              "</style>\n",
              "<table border=\"1\" class=\"dataframe\">\n",
              "  <thead>\n",
              "    <tr style=\"text-align: right;\">\n",
              "      <th></th>\n",
              "      <th>Node</th>\n",
              "      <th>degree_centrality</th>\n",
              "    </tr>\n",
              "  </thead>\n",
              "  <tbody>\n",
              "    <tr>\n",
              "      <th>0</th>\n",
              "      <td>11823</td>\n",
              "      <td>0.010227</td>\n",
              "    </tr>\n",
              "    <tr>\n",
              "      <th>1</th>\n",
              "      <td>7745</td>\n",
              "      <td>0.009628</td>\n",
              "    </tr>\n",
              "    <tr>\n",
              "      <th>2</th>\n",
              "      <td>379</td>\n",
              "      <td>0.009500</td>\n",
              "    </tr>\n",
              "    <tr>\n",
              "      <th>3</th>\n",
              "      <td>2597</td>\n",
              "      <td>0.009200</td>\n",
              "    </tr>\n",
              "    <tr>\n",
              "      <th>4</th>\n",
              "      <td>14112</td>\n",
              "      <td>0.008130</td>\n",
              "    </tr>\n",
              "    <tr>\n",
              "      <th>5</th>\n",
              "      <td>14612</td>\n",
              "      <td>0.007916</td>\n",
              "    </tr>\n",
              "    <tr>\n",
              "      <th>6</th>\n",
              "      <td>2676</td>\n",
              "      <td>0.007745</td>\n",
              "    </tr>\n",
              "    <tr>\n",
              "      <th>7</th>\n",
              "      <td>21477</td>\n",
              "      <td>0.007703</td>\n",
              "    </tr>\n",
              "    <tr>\n",
              "      <th>8</th>\n",
              "      <td>4316</td>\n",
              "      <td>0.007232</td>\n",
              "    </tr>\n",
              "    <tr>\n",
              "      <th>9</th>\n",
              "      <td>4480</td>\n",
              "      <td>0.007103</td>\n",
              "    </tr>\n",
              "  </tbody>\n",
              "</table>\n",
              "</div>"
            ],
            "text/plain": [
              "    Node  degree_centrality\n",
              "0  11823           0.010227\n",
              "1   7745           0.009628\n",
              "2    379           0.009500\n",
              "3   2597           0.009200\n",
              "4  14112           0.008130\n",
              "5  14612           0.007916\n",
              "6   2676           0.007745\n",
              "7  21477           0.007703\n",
              "8   4316           0.007232\n",
              "9   4480           0.007103"
            ]
          },
          "metadata": {
            "tags": []
          }
        }
      ]
    },
    {
      "cell_type": "code",
      "metadata": {
        "colab": {
          "base_uri": "https://localhost:8080/",
          "height": 363
        },
        "id": "ZEHE60G_Njk9",
        "outputId": "3c3b5e58-25c3-4678-ca71-230146aed159"
      },
      "source": [
        "df=nx.eigenvector_centrality(G)\n",
        "\n",
        "df = [v for v in df.values()]\n",
        "df=pd.DataFrame(df)\n",
        "df.reset_index(inplace=True)\n",
        "df.columns=['Node','eigenvector_centrality']\n",
        "\n",
        "df=df.sort_values(by='eigenvector_centrality',ascending=False)\n",
        "df.reset_index(inplace=True)\n",
        "df=df.drop('index',axis=1)\n",
        "\n",
        "display(df[:10])\n",
        "\n",
        "df.to_csv('eigenvector__twitter.csv')"
      ],
      "execution_count": null,
      "outputs": [
        {
          "output_type": "display_data",
          "data": {
            "text/html": [
              "<div>\n",
              "<style scoped>\n",
              "    .dataframe tbody tr th:only-of-type {\n",
              "        vertical-align: middle;\n",
              "    }\n",
              "\n",
              "    .dataframe tbody tr th {\n",
              "        vertical-align: top;\n",
              "    }\n",
              "\n",
              "    .dataframe thead th {\n",
              "        text-align: right;\n",
              "    }\n",
              "</style>\n",
              "<table border=\"1\" class=\"dataframe\">\n",
              "  <thead>\n",
              "    <tr style=\"text-align: right;\">\n",
              "      <th></th>\n",
              "      <th>Node</th>\n",
              "      <th>eigenvector_centrality</th>\n",
              "    </tr>\n",
              "  </thead>\n",
              "  <tbody>\n",
              "    <tr>\n",
              "      <th>0</th>\n",
              "      <td>801</td>\n",
              "      <td>0.195066</td>\n",
              "    </tr>\n",
              "    <tr>\n",
              "      <th>1</th>\n",
              "      <td>861</td>\n",
              "      <td>0.190604</td>\n",
              "    </tr>\n",
              "    <tr>\n",
              "      <th>2</th>\n",
              "      <td>804</td>\n",
              "      <td>0.165639</td>\n",
              "    </tr>\n",
              "    <tr>\n",
              "      <th>3</th>\n",
              "      <td>791</td>\n",
              "      <td>0.161847</td>\n",
              "    </tr>\n",
              "    <tr>\n",
              "      <th>4</th>\n",
              "      <td>809</td>\n",
              "      <td>0.158767</td>\n",
              "    </tr>\n",
              "    <tr>\n",
              "      <th>5</th>\n",
              "      <td>842</td>\n",
              "      <td>0.157618</td>\n",
              "    </tr>\n",
              "    <tr>\n",
              "      <th>6</th>\n",
              "      <td>794</td>\n",
              "      <td>0.150092</td>\n",
              "    </tr>\n",
              "    <tr>\n",
              "      <th>7</th>\n",
              "      <td>824</td>\n",
              "      <td>0.148985</td>\n",
              "    </tr>\n",
              "    <tr>\n",
              "      <th>8</th>\n",
              "      <td>815</td>\n",
              "      <td>0.148854</td>\n",
              "    </tr>\n",
              "    <tr>\n",
              "      <th>9</th>\n",
              "      <td>818</td>\n",
              "      <td>0.143007</td>\n",
              "    </tr>\n",
              "  </tbody>\n",
              "</table>\n",
              "</div>"
            ],
            "text/plain": [
              "   Node  eigenvector_centrality\n",
              "0   801                0.195066\n",
              "1   861                0.190604\n",
              "2   804                0.165639\n",
              "3   791                0.161847\n",
              "4   809                0.158767\n",
              "5   842                0.157618\n",
              "6   794                0.150092\n",
              "7   824                0.148985\n",
              "8   815                0.148854\n",
              "9   818                0.143007"
            ]
          },
          "metadata": {
            "tags": []
          }
        }
      ]
    },
    {
      "cell_type": "code",
      "metadata": {
        "colab": {
          "base_uri": "https://localhost:8080/",
          "height": 363
        },
        "id": "b08hnR-iQBdP",
        "outputId": "3bb3c637-1e83-43b6-c97a-ba283bca8597"
      },
      "source": [
        "df=nx.closeness_centrality(G)\n",
        "\n",
        "df = [v for v in df.values()]\n",
        "df=pd.DataFrame(df)\n",
        "df.reset_index(inplace=True)\n",
        "df.columns=['Node','closeness_centrality']\n",
        "\n",
        "df=df.sort_values(by='closeness_centrality',ascending=False)\n",
        "df.reset_index(inplace=True)\n",
        "df=df.drop('index',axis=1)\n",
        "\n",
        "display(df[:10])\n",
        "\n",
        "df.to_csv('closeness_twitter.csv')"
      ],
      "execution_count": null,
      "outputs": [
        {
          "output_type": "display_data",
          "data": {
            "text/html": [
              "<div>\n",
              "<style scoped>\n",
              "    .dataframe tbody tr th:only-of-type {\n",
              "        vertical-align: middle;\n",
              "    }\n",
              "\n",
              "    .dataframe tbody tr th {\n",
              "        vertical-align: top;\n",
              "    }\n",
              "\n",
              "    .dataframe thead th {\n",
              "        text-align: right;\n",
              "    }\n",
              "</style>\n",
              "<table border=\"1\" class=\"dataframe\">\n",
              "  <thead>\n",
              "    <tr style=\"text-align: right;\">\n",
              "      <th></th>\n",
              "      <th>Node</th>\n",
              "      <th>closeness_centrality</th>\n",
              "    </tr>\n",
              "  </thead>\n",
              "  <tbody>\n",
              "    <tr>\n",
              "      <th>0</th>\n",
              "      <td>1898</td>\n",
              "      <td>0.002782</td>\n",
              "    </tr>\n",
              "    <tr>\n",
              "      <th>1</th>\n",
              "      <td>620</td>\n",
              "      <td>0.002603</td>\n",
              "    </tr>\n",
              "    <tr>\n",
              "      <th>2</th>\n",
              "      <td>668</td>\n",
              "      <td>0.002591</td>\n",
              "    </tr>\n",
              "    <tr>\n",
              "      <th>3</th>\n",
              "      <td>35</td>\n",
              "      <td>0.002568</td>\n",
              "    </tr>\n",
              "    <tr>\n",
              "      <th>4</th>\n",
              "      <td>12289</td>\n",
              "      <td>0.002343</td>\n",
              "    </tr>\n",
              "    <tr>\n",
              "      <th>5</th>\n",
              "      <td>896</td>\n",
              "      <td>0.002308</td>\n",
              "    </tr>\n",
              "    <tr>\n",
              "      <th>6</th>\n",
              "      <td>36</td>\n",
              "      <td>0.002290</td>\n",
              "    </tr>\n",
              "    <tr>\n",
              "      <th>7</th>\n",
              "      <td>5563</td>\n",
              "      <td>0.002243</td>\n",
              "    </tr>\n",
              "    <tr>\n",
              "      <th>8</th>\n",
              "      <td>34</td>\n",
              "      <td>0.002126</td>\n",
              "    </tr>\n",
              "    <tr>\n",
              "      <th>9</th>\n",
              "      <td>13545</td>\n",
              "      <td>0.002109</td>\n",
              "    </tr>\n",
              "  </tbody>\n",
              "</table>\n",
              "</div>"
            ],
            "text/plain": [
              "    Node  closeness_centrality\n",
              "0   1898              0.002782\n",
              "1    620              0.002603\n",
              "2    668              0.002591\n",
              "3     35              0.002568\n",
              "4  12289              0.002343\n",
              "5    896              0.002308\n",
              "6     36              0.002290\n",
              "7   5563              0.002243\n",
              "8     34              0.002126\n",
              "9  13545              0.002109"
            ]
          },
          "metadata": {
            "tags": []
          }
        }
      ]
    },
    {
      "cell_type": "code",
      "metadata": {
        "colab": {
          "base_uri": "https://localhost:8080/",
          "height": 363
        },
        "id": "L2jK5wr1RaFS",
        "outputId": "948d03ff-0898-4baf-886e-e03a67da8581"
      },
      "source": [
        "df=nx.algorithms.link_analysis.pagerank_alg.pagerank(G)\n",
        "\n",
        "df = [v for v in df.values()]\n",
        "df=pd.DataFrame(df)\n",
        "df.reset_index(inplace=True)\n",
        "df.columns=['Node','pagerank_centrality']\n",
        "\n",
        "df=df.sort_values(by='pagerank_centrality',ascending=False)\n",
        "df.reset_index(inplace=True)\n",
        "df=df.drop('index',axis=1)\n",
        "\n",
        "display(df[:10])\n",
        "\n",
        "df.to_csv('pagerank_twitter.csv')"
      ],
      "execution_count": null,
      "outputs": [
        {
          "output_type": "display_data",
          "data": {
            "text/html": [
              "<div>\n",
              "<style scoped>\n",
              "    .dataframe tbody tr th:only-of-type {\n",
              "        vertical-align: middle;\n",
              "    }\n",
              "\n",
              "    .dataframe tbody tr th {\n",
              "        vertical-align: top;\n",
              "    }\n",
              "\n",
              "    .dataframe thead th {\n",
              "        text-align: right;\n",
              "    }\n",
              "</style>\n",
              "<table border=\"1\" class=\"dataframe\">\n",
              "  <thead>\n",
              "    <tr style=\"text-align: right;\">\n",
              "      <th></th>\n",
              "      <th>Node</th>\n",
              "      <th>pagerank_centrality</th>\n",
              "    </tr>\n",
              "  </thead>\n",
              "  <tbody>\n",
              "    <tr>\n",
              "      <th>0</th>\n",
              "      <td>35</td>\n",
              "      <td>0.000189</td>\n",
              "    </tr>\n",
              "    <tr>\n",
              "      <th>1</th>\n",
              "      <td>34</td>\n",
              "      <td>0.000169</td>\n",
              "    </tr>\n",
              "    <tr>\n",
              "      <th>2</th>\n",
              "      <td>23</td>\n",
              "      <td>0.000167</td>\n",
              "    </tr>\n",
              "    <tr>\n",
              "      <th>3</th>\n",
              "      <td>36</td>\n",
              "      <td>0.000150</td>\n",
              "    </tr>\n",
              "    <tr>\n",
              "      <th>4</th>\n",
              "      <td>7724</td>\n",
              "      <td>0.000102</td>\n",
              "    </tr>\n",
              "    <tr>\n",
              "      <th>5</th>\n",
              "      <td>1306</td>\n",
              "      <td>0.000098</td>\n",
              "    </tr>\n",
              "    <tr>\n",
              "      <th>6</th>\n",
              "      <td>536</td>\n",
              "      <td>0.000097</td>\n",
              "    </tr>\n",
              "    <tr>\n",
              "      <th>7</th>\n",
              "      <td>3677</td>\n",
              "      <td>0.000094</td>\n",
              "    </tr>\n",
              "    <tr>\n",
              "      <th>8</th>\n",
              "      <td>1325</td>\n",
              "      <td>0.000094</td>\n",
              "    </tr>\n",
              "    <tr>\n",
              "      <th>9</th>\n",
              "      <td>801</td>\n",
              "      <td>0.000093</td>\n",
              "    </tr>\n",
              "  </tbody>\n",
              "</table>\n",
              "</div>"
            ],
            "text/plain": [
              "   Node  pagerank_centrality\n",
              "0    35             0.000189\n",
              "1    34             0.000169\n",
              "2    23             0.000167\n",
              "3    36             0.000150\n",
              "4  7724             0.000102\n",
              "5  1306             0.000098\n",
              "6   536             0.000097\n",
              "7  3677             0.000094\n",
              "8  1325             0.000094\n",
              "9   801             0.000093"
            ]
          },
          "metadata": {
            "tags": []
          }
        }
      ]
    },
    {
      "cell_type": "code",
      "metadata": {
        "colab": {
          "base_uri": "https://localhost:8080/",
          "height": 363
        },
        "id": "YGOuBfVcSV4R",
        "outputId": "3eaadd3f-3aaa-4e91-ceb4-464e11e89b7b"
      },
      "source": [
        "df=nx.algorithms.cluster.clustering(G)\n",
        "\n",
        "df = [v for v in df.values()]\n",
        "df=pd.DataFrame(df)\n",
        "df.reset_index(inplace=True)\n",
        "df.columns=['Node','LCC']\n",
        "\n",
        "df=df.sort_values(by='LCC',ascending=False)\n",
        "df.reset_index(inplace=True)\n",
        "df=df.drop('index',axis=1)\n",
        "\n",
        "display(df[:10])\n",
        "\n",
        "df.to_csv('LCC_twitter.csv')"
      ],
      "execution_count": null,
      "outputs": [
        {
          "output_type": "display_data",
          "data": {
            "text/html": [
              "<div>\n",
              "<style scoped>\n",
              "    .dataframe tbody tr th:only-of-type {\n",
              "        vertical-align: middle;\n",
              "    }\n",
              "\n",
              "    .dataframe tbody tr th {\n",
              "        vertical-align: top;\n",
              "    }\n",
              "\n",
              "    .dataframe thead th {\n",
              "        text-align: right;\n",
              "    }\n",
              "</style>\n",
              "<table border=\"1\" class=\"dataframe\">\n",
              "  <thead>\n",
              "    <tr style=\"text-align: right;\">\n",
              "      <th></th>\n",
              "      <th>Node</th>\n",
              "      <th>LCC</th>\n",
              "    </tr>\n",
              "  </thead>\n",
              "  <tbody>\n",
              "    <tr>\n",
              "      <th>0</th>\n",
              "      <td>13854</td>\n",
              "      <td>1.0</td>\n",
              "    </tr>\n",
              "    <tr>\n",
              "      <th>1</th>\n",
              "      <td>11788</td>\n",
              "      <td>1.0</td>\n",
              "    </tr>\n",
              "    <tr>\n",
              "      <th>2</th>\n",
              "      <td>20697</td>\n",
              "      <td>1.0</td>\n",
              "    </tr>\n",
              "    <tr>\n",
              "      <th>3</th>\n",
              "      <td>20696</td>\n",
              "      <td>1.0</td>\n",
              "    </tr>\n",
              "    <tr>\n",
              "      <th>4</th>\n",
              "      <td>2776</td>\n",
              "      <td>1.0</td>\n",
              "    </tr>\n",
              "    <tr>\n",
              "      <th>5</th>\n",
              "      <td>2775</td>\n",
              "      <td>1.0</td>\n",
              "    </tr>\n",
              "    <tr>\n",
              "      <th>6</th>\n",
              "      <td>20693</td>\n",
              "      <td>1.0</td>\n",
              "    </tr>\n",
              "    <tr>\n",
              "      <th>7</th>\n",
              "      <td>20692</td>\n",
              "      <td>1.0</td>\n",
              "    </tr>\n",
              "    <tr>\n",
              "      <th>8</th>\n",
              "      <td>20691</td>\n",
              "      <td>1.0</td>\n",
              "    </tr>\n",
              "    <tr>\n",
              "      <th>9</th>\n",
              "      <td>2767</td>\n",
              "      <td>1.0</td>\n",
              "    </tr>\n",
              "  </tbody>\n",
              "</table>\n",
              "</div>"
            ],
            "text/plain": [
              "    Node  LCC\n",
              "0  13854  1.0\n",
              "1  11788  1.0\n",
              "2  20697  1.0\n",
              "3  20696  1.0\n",
              "4   2776  1.0\n",
              "5   2775  1.0\n",
              "6  20693  1.0\n",
              "7  20692  1.0\n",
              "8  20691  1.0\n",
              "9   2767  1.0"
            ]
          },
          "metadata": {
            "tags": []
          }
        }
      ]
    },
    {
      "cell_type": "code",
      "metadata": {
        "colab": {
          "base_uri": "https://localhost:8080/"
        },
        "id": "yn1-ufuiTidM",
        "outputId": "dff06587-e8c2-426d-d234-9e4ceb0c2c89"
      },
      "source": [
        "nx.average_clustering(G,count_zeros=True)"
      ],
      "execution_count": null,
      "outputs": [
        {
          "output_type": "execute_result",
          "data": {
            "text/plain": [
              "0.05087457375195453"
            ]
          },
          "metadata": {
            "tags": []
          },
          "execution_count": 16
        }
      ]
    },
    {
      "cell_type": "code",
      "metadata": {
        "colab": {
          "base_uri": "https://localhost:8080/"
        },
        "id": "jPvqttbSV_ow",
        "outputId": "ee13731f-2dcb-4dcf-8240-fa42bb9b01c2"
      },
      "source": [
        "global_clustering(G)"
      ],
      "execution_count": null,
      "outputs": [
        {
          "output_type": "execute_result",
          "data": {
            "text/plain": [
              "0.005629759274224368"
            ]
          },
          "metadata": {
            "tags": []
          },
          "execution_count": 17
        }
      ]
    },
    {
      "cell_type": "code",
      "metadata": {
        "colab": {
          "base_uri": "https://localhost:8080/"
        },
        "id": "pDFXiOzUaoqt",
        "outputId": "f18e434a-79cc-40f3-975c-b2309ed66401"
      },
      "source": [
        "nx.algorithms.reciprocity(G)"
      ],
      "execution_count": null,
      "outputs": [
        {
          "output_type": "execute_result",
          "data": {
            "text/plain": [
              "0.016313706534545783"
            ]
          },
          "metadata": {
            "tags": []
          },
          "execution_count": 18
        }
      ]
    },
    {
      "cell_type": "code",
      "metadata": {
        "id": "0WrQ0sGkozw-"
      },
      "source": [
        "avg_k_vals=list([]) \n",
        "float_range(avg_k_vals,0, 5, 0.1)\n",
        "avg_k_vals=[ float('%.1f' % elem) for elem in avg_k_vals ]"
      ],
      "execution_count": null,
      "outputs": []
    },
    {
      "cell_type": "code",
      "metadata": {
        "id": "oo892vduozxA"
      },
      "source": [
        "dicto=defaultdict(lambda:0)\n",
        "\n",
        "for avg_k in avg_k_vals:\n",
        "  if avg_k==0: #For <k>= 0 no edges\n",
        "    dicto[avg_k]=0\n",
        "    continue\n",
        "\n",
        "  nodes=len(G.nodes())\n",
        "  edges=int(nodes*avg_k)//2 #Each edge is counted twice in k calculation\n",
        "\n",
        "  G_aux=igraph.Graph.Erdos_Renyi(n=nodes, m=edges) #Create a random G(n,m) Graph\n",
        "\n",
        "  lister=G_aux.get_edgelist() #Get the random G(n,m) Graph's edgelist\n",
        "\n",
        "  G_aux = nx.from_edgelist(lister) #Convert the random G(n,m) Graph's edgelist to networkx compatible graph\n",
        "  \n",
        "  dicto[avg_k]=compute_ratio(G_aux) #Compute N_G/N ratio"
      ],
      "execution_count": null,
      "outputs": []
    },
    {
      "cell_type": "code",
      "metadata": {
        "colab": {
          "base_uri": "https://localhost:8080/"
        },
        "id": "KExJMZ_AozxB",
        "outputId": "b50bddca-8798-4667-f032-bf5fe1120e96"
      },
      "source": [
        "print(dicto)"
      ],
      "execution_count": null,
      "outputs": [
        {
          "output_type": "stream",
          "text": [
            "defaultdict(<function <lambda> at 0x7fa5c7cb2dd0>, {0.0: 0, 0.1: 0.0022471910112359553, 0.2: 0.0016420361247947454, 0.3: 0.0014773473407747866, 0.4: 0.002344971339239187, 0.5: 0.002065666449228093, 0.6: 0.0026412602584661824, 0.7: 0.004753416518122401, 0.8: 0.005783509183274717, 0.9: 0.01205950317735413, 1.0: 0.06072080600446278, 1.1: 0.2499199385127778, 1.2: 0.46280027032008353, 1.3: 0.5999647597791613, 1.4: 0.6666666666666666, 1.5: 0.7539603411986263, 1.6: 0.8026266416510319, 1.7: 0.8355914538822303, 1.8: 0.8746725563716677, 1.9: 0.8973894673306172, 2.0: 0.9171017633730667, 2.1: 0.9351217378626622, 2.2: 0.9505126847349925, 2.3: 0.9561662070932776, 2.4: 0.9656270487964784, 2.5: 0.9687936655798789, 2.6: 0.9760188522317715, 2.7: 0.9821395775941231, 2.8: 0.9852539595849262, 2.9: 0.9872550798258345, 3.0: 0.9888554352222172, 3.1: 0.9907208176438945, 3.2: 0.9925559418739414, 3.3: 0.9946286678208373, 3.4: 0.9952178533475027, 3.5: 0.9957236697085924, 3.6: 0.9971424803270761, 3.7: 0.9971060247303342, 3.8: 0.9980726269218976, 3.9: 0.9988653225102557, 4.0: 0.9983006535947713, 4.1: 0.9988686306078934, 4.2: 0.9987811779044966, 4.3: 0.9987419746659726, 4.4: 0.9990901607382696, 4.5: 0.9993508460639633, 4.6: 0.9996972187378347, 4.7: 0.9997410556298821, 4.8: 0.9997410556298821, 4.9: 1.0, 5.0: 0.9999137893874736})\n"
          ],
          "name": "stdout"
        }
      ]
    },
    {
      "cell_type": "code",
      "metadata": {
        "colab": {
          "base_uri": "https://localhost:8080/",
          "height": 610
        },
        "id": "tFtIKliYqRnw",
        "outputId": "9f93a714-17ef-45e8-faba-ee00b0bda1e4"
      },
      "source": [
        "plt.figure(figsize=(20,10))\n",
        "\n",
        "sns.lineplot(x=dicto.keys(),y=dicto.values())"
      ],
      "execution_count": null,
      "outputs": [
        {
          "output_type": "execute_result",
          "data": {
            "text/plain": [
              "<matplotlib.axes._subplots.AxesSubplot at 0x7fa5dae21f10>"
            ]
          },
          "metadata": {
            "tags": []
          },
          "execution_count": 22
        },
        {
          "output_type": "display_data",
          "data": {
            "image/png": "[encoded data removed]",
            "text/plain": [
              "<Figure size 1440x720 with 1 Axes>"
            ]
          },
          "metadata": {
            "tags": [],
            "needs_background": "light"
          }
        }
      ]
    },
    {
      "cell_type": "code",
      "metadata": {
        "colab": {
          "base_uri": "https://localhost:8080/"
        },
        "id": "cq2nqvXeZzWV",
        "outputId": "b5622665-3f51-4703-d504-91ff446f7062"
      },
      "source": [
        "fh = open(\"/content/email-Eu-core_f.txt\", \"rb\")\n",
        "G = nx.read_edgelist(fh,create_using=nx.DiGraph())\n",
        "fh.close()\n",
        "print(len(G.nodes()))\n",
        "print(len(G.edges()))"
      ],
      "execution_count": null,
      "outputs": [
        {
          "output_type": "stream",
          "text": [
            "1005\n",
            "25571\n"
          ],
          "name": "stdout"
        }
      ]
    },
    {
      "cell_type": "code",
      "metadata": {
        "colab": {
          "base_uri": "https://localhost:8080/",
          "height": 363
        },
        "id": "5fCTILkCZzWW",
        "outputId": "51763c4e-92eb-47d2-820f-92e74777cd74"
      },
      "source": [
        "df=nx.degree_centrality(G)\n",
        "\n",
        "df = [v for v in df.values()]\n",
        "df=pd.DataFrame(df)\n",
        "df.reset_index(inplace=True)\n",
        "df.columns=['Node','degree_centrality']\n",
        "\n",
        "df=df.sort_values(by='degree_centrality',ascending=False)\n",
        "df.reset_index(inplace=True)\n",
        "df=df.drop('index',axis=1)\n",
        "\n",
        "display(df[:10])\n",
        "\n",
        "df.to_csv('degree_email.csv')"
      ],
      "execution_count": null,
      "outputs": [
        {
          "output_type": "display_data",
          "data": {
            "text/html": [
              "<div>\n",
              "<style scoped>\n",
              "    .dataframe tbody tr th:only-of-type {\n",
              "        vertical-align: middle;\n",
              "    }\n",
              "\n",
              "    .dataframe tbody tr th {\n",
              "        vertical-align: top;\n",
              "    }\n",
              "\n",
              "    .dataframe thead th {\n",
              "        text-align: right;\n",
              "    }\n",
              "</style>\n",
              "<table border=\"1\" class=\"dataframe\">\n",
              "  <thead>\n",
              "    <tr style=\"text-align: right;\">\n",
              "      <th></th>\n",
              "      <th>Node</th>\n",
              "      <th>degree_centrality</th>\n",
              "    </tr>\n",
              "  </thead>\n",
              "  <tbody>\n",
              "    <tr>\n",
              "      <th>0</th>\n",
              "      <td>160</td>\n",
              "      <td>0.543825</td>\n",
              "    </tr>\n",
              "    <tr>\n",
              "      <th>1</th>\n",
              "      <td>121</td>\n",
              "      <td>0.377490</td>\n",
              "    </tr>\n",
              "    <tr>\n",
              "      <th>2</th>\n",
              "      <td>107</td>\n",
              "      <td>0.371514</td>\n",
              "    </tr>\n",
              "    <tr>\n",
              "      <th>3</th>\n",
              "      <td>62</td>\n",
              "      <td>0.367530</td>\n",
              "    </tr>\n",
              "    <tr>\n",
              "      <th>4</th>\n",
              "      <td>86</td>\n",
              "      <td>0.354582</td>\n",
              "    </tr>\n",
              "    <tr>\n",
              "      <th>5</th>\n",
              "      <td>82</td>\n",
              "      <td>0.346614</td>\n",
              "    </tr>\n",
              "    <tr>\n",
              "      <th>6</th>\n",
              "      <td>434</td>\n",
              "      <td>0.306773</td>\n",
              "    </tr>\n",
              "    <tr>\n",
              "      <th>7</th>\n",
              "      <td>183</td>\n",
              "      <td>0.300797</td>\n",
              "    </tr>\n",
              "    <tr>\n",
              "      <th>8</th>\n",
              "      <td>5</td>\n",
              "      <td>0.278884</td>\n",
              "    </tr>\n",
              "    <tr>\n",
              "      <th>9</th>\n",
              "      <td>129</td>\n",
              "      <td>0.273904</td>\n",
              "    </tr>\n",
              "  </tbody>\n",
              "</table>\n",
              "</div>"
            ],
            "text/plain": [
              "   Node  degree_centrality\n",
              "0   160           0.543825\n",
              "1   121           0.377490\n",
              "2   107           0.371514\n",
              "3    62           0.367530\n",
              "4    86           0.354582\n",
              "5    82           0.346614\n",
              "6   434           0.306773\n",
              "7   183           0.300797\n",
              "8     5           0.278884\n",
              "9   129           0.273904"
            ]
          },
          "metadata": {
            "tags": []
          }
        }
      ]
    },
    {
      "cell_type": "code",
      "metadata": {
        "colab": {
          "base_uri": "https://localhost:8080/",
          "height": 363
        },
        "id": "CTLjHug3ZzWY",
        "outputId": "7e54ddd2-fb5f-4abf-c8d6-e37f60e45b2b"
      },
      "source": [
        "df=nx.eigenvector_centrality(G)\n",
        "\n",
        "df = [v for v in df.values()]\n",
        "df=pd.DataFrame(df)\n",
        "df.reset_index(inplace=True)\n",
        "df.columns=['Node','eigenvector_centrality']\n",
        "\n",
        "df=df.sort_values(by='eigenvector_centrality',ascending=False)\n",
        "df.reset_index(inplace=True)\n",
        "df=df.drop('index',axis=1)\n",
        "\n",
        "display(df[:10])\n",
        "\n",
        "df.to_csv('eigenvector_email.csv')"
      ],
      "execution_count": null,
      "outputs": [
        {
          "output_type": "display_data",
          "data": {
            "text/html": [
              "<div>\n",
              "<style scoped>\n",
              "    .dataframe tbody tr th:only-of-type {\n",
              "        vertical-align: middle;\n",
              "    }\n",
              "\n",
              "    .dataframe tbody tr th {\n",
              "        vertical-align: top;\n",
              "    }\n",
              "\n",
              "    .dataframe thead th {\n",
              "        text-align: right;\n",
              "    }\n",
              "</style>\n",
              "<table border=\"1\" class=\"dataframe\">\n",
              "  <thead>\n",
              "    <tr style=\"text-align: right;\">\n",
              "      <th></th>\n",
              "      <th>Node</th>\n",
              "      <th>eigenvector_centrality</th>\n",
              "    </tr>\n",
              "  </thead>\n",
              "  <tbody>\n",
              "    <tr>\n",
              "      <th>0</th>\n",
              "      <td>160</td>\n",
              "      <td>0.149208</td>\n",
              "    </tr>\n",
              "    <tr>\n",
              "      <th>1</th>\n",
              "      <td>107</td>\n",
              "      <td>0.143655</td>\n",
              "    </tr>\n",
              "    <tr>\n",
              "      <th>2</th>\n",
              "      <td>62</td>\n",
              "      <td>0.140084</td>\n",
              "    </tr>\n",
              "    <tr>\n",
              "      <th>3</th>\n",
              "      <td>434</td>\n",
              "      <td>0.136061</td>\n",
              "    </tr>\n",
              "    <tr>\n",
              "      <th>4</th>\n",
              "      <td>121</td>\n",
              "      <td>0.136024</td>\n",
              "    </tr>\n",
              "    <tr>\n",
              "      <th>5</th>\n",
              "      <td>183</td>\n",
              "      <td>0.126031</td>\n",
              "    </tr>\n",
              "    <tr>\n",
              "      <th>6</th>\n",
              "      <td>128</td>\n",
              "      <td>0.120267</td>\n",
              "    </tr>\n",
              "    <tr>\n",
              "      <th>7</th>\n",
              "      <td>256</td>\n",
              "      <td>0.116851</td>\n",
              "    </tr>\n",
              "    <tr>\n",
              "      <th>8</th>\n",
              "      <td>249</td>\n",
              "      <td>0.115490</td>\n",
              "    </tr>\n",
              "    <tr>\n",
              "      <th>9</th>\n",
              "      <td>129</td>\n",
              "      <td>0.115410</td>\n",
              "    </tr>\n",
              "  </tbody>\n",
              "</table>\n",
              "</div>"
            ],
            "text/plain": [
              "   Node  eigenvector_centrality\n",
              "0   160                0.149208\n",
              "1   107                0.143655\n",
              "2    62                0.140084\n",
              "3   434                0.136061\n",
              "4   121                0.136024\n",
              "5   183                0.126031\n",
              "6   128                0.120267\n",
              "7   256                0.116851\n",
              "8   249                0.115490\n",
              "9   129                0.115410"
            ]
          },
          "metadata": {
            "tags": []
          }
        }
      ]
    },
    {
      "cell_type": "code",
      "metadata": {
        "colab": {
          "base_uri": "https://localhost:8080/",
          "height": 363
        },
        "id": "qDr5ly8SZzWY",
        "outputId": "a8ebad48-d54f-407f-88e0-10e490afecdb"
      },
      "source": [
        "df=nx.closeness_centrality(G)\n",
        "\n",
        "df = [v for v in df.values()]\n",
        "df=pd.DataFrame(df)\n",
        "df.reset_index(inplace=True)\n",
        "df.columns=['Node','closeness_centrality']\n",
        "\n",
        "df=df.sort_values(by='closeness_centrality',ascending=False)\n",
        "df.reset_index(inplace=True)\n",
        "df=df.drop('index',axis=1)\n",
        "\n",
        "display(df[:10])\n",
        "\n",
        "df.to_csv('closeness_email.csv')"
      ],
      "execution_count": null,
      "outputs": [
        {
          "output_type": "display_data",
          "data": {
            "text/html": [
              "<div>\n",
              "<style scoped>\n",
              "    .dataframe tbody tr th:only-of-type {\n",
              "        vertical-align: middle;\n",
              "    }\n",
              "\n",
              "    .dataframe tbody tr th {\n",
              "        vertical-align: top;\n",
              "    }\n",
              "\n",
              "    .dataframe thead th {\n",
              "        text-align: right;\n",
              "    }\n",
              "</style>\n",
              "<table border=\"1\" class=\"dataframe\">\n",
              "  <thead>\n",
              "    <tr style=\"text-align: right;\">\n",
              "      <th></th>\n",
              "      <th>Node</th>\n",
              "      <th>closeness_centrality</th>\n",
              "    </tr>\n",
              "  </thead>\n",
              "  <tbody>\n",
              "    <tr>\n",
              "      <th>0</th>\n",
              "      <td>160</td>\n",
              "      <td>0.449669</td>\n",
              "    </tr>\n",
              "    <tr>\n",
              "      <th>1</th>\n",
              "      <td>62</td>\n",
              "      <td>0.436796</td>\n",
              "    </tr>\n",
              "    <tr>\n",
              "      <th>2</th>\n",
              "      <td>107</td>\n",
              "      <td>0.433133</td>\n",
              "    </tr>\n",
              "    <tr>\n",
              "      <th>3</th>\n",
              "      <td>434</td>\n",
              "      <td>0.428434</td>\n",
              "    </tr>\n",
              "    <tr>\n",
              "      <th>4</th>\n",
              "      <td>121</td>\n",
              "      <td>0.427615</td>\n",
              "    </tr>\n",
              "    <tr>\n",
              "      <th>5</th>\n",
              "      <td>86</td>\n",
              "      <td>0.423034</td>\n",
              "    </tr>\n",
              "    <tr>\n",
              "      <th>6</th>\n",
              "      <td>64</td>\n",
              "      <td>0.421441</td>\n",
              "    </tr>\n",
              "    <tr>\n",
              "      <th>7</th>\n",
              "      <td>129</td>\n",
              "      <td>0.419073</td>\n",
              "    </tr>\n",
              "    <tr>\n",
              "      <th>8</th>\n",
              "      <td>183</td>\n",
              "      <td>0.418551</td>\n",
              "    </tr>\n",
              "    <tr>\n",
              "      <th>9</th>\n",
              "      <td>128</td>\n",
              "      <td>0.417250</td>\n",
              "    </tr>\n",
              "  </tbody>\n",
              "</table>\n",
              "</div>"
            ],
            "text/plain": [
              "   Node  closeness_centrality\n",
              "0   160              0.449669\n",
              "1    62              0.436796\n",
              "2   107              0.433133\n",
              "3   434              0.428434\n",
              "4   121              0.427615\n",
              "5    86              0.423034\n",
              "6    64              0.421441\n",
              "7   129              0.419073\n",
              "8   183              0.418551\n",
              "9   128              0.417250"
            ]
          },
          "metadata": {
            "tags": []
          }
        }
      ]
    },
    {
      "cell_type": "code",
      "metadata": {
        "colab": {
          "base_uri": "https://localhost:8080/",
          "height": 363
        },
        "id": "3EHlptoJZzWZ",
        "outputId": "789bd49f-4919-491f-c50f-a8c5310bddd2"
      },
      "source": [
        "df=nx.algorithms.link_analysis.pagerank_alg.pagerank(G)\n",
        "\n",
        "df = [v for v in df.values()]\n",
        "df=pd.DataFrame(df)\n",
        "df.reset_index(inplace=True)\n",
        "df.columns=['Node','pagerank_centrality']\n",
        "\n",
        "df=df.sort_values(by='pagerank_centrality',ascending=False)\n",
        "df.reset_index(inplace=True)\n",
        "df=df.drop('index',axis=1)\n",
        "\n",
        "display(df[:10])\n",
        "\n",
        "df.to_csv('pagerank_email.csv')"
      ],
      "execution_count": null,
      "outputs": [
        {
          "output_type": "display_data",
          "data": {
            "text/html": [
              "<div>\n",
              "<style scoped>\n",
              "    .dataframe tbody tr th:only-of-type {\n",
              "        vertical-align: middle;\n",
              "    }\n",
              "\n",
              "    .dataframe tbody tr th {\n",
              "        vertical-align: top;\n",
              "    }\n",
              "\n",
              "    .dataframe thead th {\n",
              "        text-align: right;\n",
              "    }\n",
              "</style>\n",
              "<table border=\"1\" class=\"dataframe\">\n",
              "  <thead>\n",
              "    <tr style=\"text-align: right;\">\n",
              "      <th></th>\n",
              "      <th>Node</th>\n",
              "      <th>pagerank_centrality</th>\n",
              "    </tr>\n",
              "  </thead>\n",
              "  <tbody>\n",
              "    <tr>\n",
              "      <th>0</th>\n",
              "      <td>1</td>\n",
              "      <td>0.009412</td>\n",
              "    </tr>\n",
              "    <tr>\n",
              "      <th>1</th>\n",
              "      <td>130</td>\n",
              "      <td>0.006914</td>\n",
              "    </tr>\n",
              "    <tr>\n",
              "      <th>2</th>\n",
              "      <td>160</td>\n",
              "      <td>0.006759</td>\n",
              "    </tr>\n",
              "    <tr>\n",
              "      <th>3</th>\n",
              "      <td>62</td>\n",
              "      <td>0.005322</td>\n",
              "    </tr>\n",
              "    <tr>\n",
              "      <th>4</th>\n",
              "      <td>86</td>\n",
              "      <td>0.005130</td>\n",
              "    </tr>\n",
              "    <tr>\n",
              "      <th>5</th>\n",
              "      <td>107</td>\n",
              "      <td>0.005004</td>\n",
              "    </tr>\n",
              "    <tr>\n",
              "      <th>6</th>\n",
              "      <td>365</td>\n",
              "      <td>0.004787</td>\n",
              "    </tr>\n",
              "    <tr>\n",
              "      <th>7</th>\n",
              "      <td>121</td>\n",
              "      <td>0.004721</td>\n",
              "    </tr>\n",
              "    <tr>\n",
              "      <th>8</th>\n",
              "      <td>5</td>\n",
              "      <td>0.004525</td>\n",
              "    </tr>\n",
              "    <tr>\n",
              "      <th>9</th>\n",
              "      <td>129</td>\n",
              "      <td>0.004453</td>\n",
              "    </tr>\n",
              "  </tbody>\n",
              "</table>\n",
              "</div>"
            ],
            "text/plain": [
              "   Node  pagerank_centrality\n",
              "0     1             0.009412\n",
              "1   130             0.006914\n",
              "2   160             0.006759\n",
              "3    62             0.005322\n",
              "4    86             0.005130\n",
              "5   107             0.005004\n",
              "6   365             0.004787\n",
              "7   121             0.004721\n",
              "8     5             0.004525\n",
              "9   129             0.004453"
            ]
          },
          "metadata": {
            "tags": []
          }
        }
      ]
    },
    {
      "cell_type": "code",
      "metadata": {
        "colab": {
          "base_uri": "https://localhost:8080/",
          "height": 363
        },
        "id": "TMWJR9NtZzWZ",
        "outputId": "55e17e67-23d4-4f19-8760-aadd7598a650"
      },
      "source": [
        "df=nx.algorithms.cluster.clustering(G)\n",
        "\n",
        "df = [v for v in df.values()]\n",
        "df=pd.DataFrame(df)\n",
        "df.reset_index(inplace=True)\n",
        "df.columns=['Node','LCC']\n",
        "\n",
        "df=df.sort_values(by='LCC',ascending=False)\n",
        "df.reset_index(inplace=True)\n",
        "df=df.drop('index',axis=1)\n",
        "\n",
        "display(df[:10])\n",
        "\n",
        "df.to_csv('LCC_email.csv')"
      ],
      "execution_count": null,
      "outputs": [
        {
          "output_type": "display_data",
          "data": {
            "text/html": [
              "<div>\n",
              "<style scoped>\n",
              "    .dataframe tbody tr th:only-of-type {\n",
              "        vertical-align: middle;\n",
              "    }\n",
              "\n",
              "    .dataframe tbody tr th {\n",
              "        vertical-align: top;\n",
              "    }\n",
              "\n",
              "    .dataframe thead th {\n",
              "        text-align: right;\n",
              "    }\n",
              "</style>\n",
              "<table border=\"1\" class=\"dataframe\">\n",
              "  <thead>\n",
              "    <tr style=\"text-align: right;\">\n",
              "      <th></th>\n",
              "      <th>Node</th>\n",
              "      <th>LCC</th>\n",
              "    </tr>\n",
              "  </thead>\n",
              "  <tbody>\n",
              "    <tr>\n",
              "      <th>0</th>\n",
              "      <td>709</td>\n",
              "      <td>1.0</td>\n",
              "    </tr>\n",
              "    <tr>\n",
              "      <th>1</th>\n",
              "      <td>398</td>\n",
              "      <td>1.0</td>\n",
              "    </tr>\n",
              "    <tr>\n",
              "      <th>2</th>\n",
              "      <td>874</td>\n",
              "      <td>1.0</td>\n",
              "    </tr>\n",
              "    <tr>\n",
              "      <th>3</th>\n",
              "      <td>637</td>\n",
              "      <td>1.0</td>\n",
              "    </tr>\n",
              "    <tr>\n",
              "      <th>4</th>\n",
              "      <td>632</td>\n",
              "      <td>1.0</td>\n",
              "    </tr>\n",
              "    <tr>\n",
              "      <th>5</th>\n",
              "      <td>631</td>\n",
              "      <td>1.0</td>\n",
              "    </tr>\n",
              "    <tr>\n",
              "      <th>6</th>\n",
              "      <td>630</td>\n",
              "      <td>1.0</td>\n",
              "    </tr>\n",
              "    <tr>\n",
              "      <th>7</th>\n",
              "      <td>625</td>\n",
              "      <td>1.0</td>\n",
              "    </tr>\n",
              "    <tr>\n",
              "      <th>8</th>\n",
              "      <td>873</td>\n",
              "      <td>1.0</td>\n",
              "    </tr>\n",
              "    <tr>\n",
              "      <th>9</th>\n",
              "      <td>766</td>\n",
              "      <td>1.0</td>\n",
              "    </tr>\n",
              "  </tbody>\n",
              "</table>\n",
              "</div>"
            ],
            "text/plain": [
              "   Node  LCC\n",
              "0   709  1.0\n",
              "1   398  1.0\n",
              "2   874  1.0\n",
              "3   637  1.0\n",
              "4   632  1.0\n",
              "5   631  1.0\n",
              "6   630  1.0\n",
              "7   625  1.0\n",
              "8   873  1.0\n",
              "9   766  1.0"
            ]
          },
          "metadata": {
            "tags": []
          }
        }
      ]
    },
    {
      "cell_type": "code",
      "metadata": {
        "colab": {
          "base_uri": "https://localhost:8080/"
        },
        "id": "7uwMyHrsZzWa",
        "outputId": "67d9a609-ef60-4722-dbad-5d44c0c14d28"
      },
      "source": [
        "nx.average_clustering(G,count_zeros=True)"
      ],
      "execution_count": null,
      "outputs": [
        {
          "output_type": "execute_result",
          "data": {
            "text/plain": [
              "0.3656613629131559"
            ]
          },
          "metadata": {
            "tags": []
          },
          "execution_count": 29
        }
      ]
    },
    {
      "cell_type": "code",
      "metadata": {
        "colab": {
          "base_uri": "https://localhost:8080/"
        },
        "id": "7thoxhx7ZzWc",
        "outputId": "b7375448-3c30-4e23-a7dc-effc33286379"
      },
      "source": [
        "global_clustering(G)"
      ],
      "execution_count": null,
      "outputs": [
        {
          "output_type": "execute_result",
          "data": {
            "text/plain": [
              "0.2201493109315837"
            ]
          },
          "metadata": {
            "tags": []
          },
          "execution_count": 30
        }
      ]
    },
    {
      "cell_type": "code",
      "metadata": {
        "colab": {
          "base_uri": "https://localhost:8080/"
        },
        "id": "b4tU2A9-aI0w",
        "outputId": "4a535160-75ed-41a4-8780-0af349373600"
      },
      "source": [
        "nx.algorithms.reciprocity(G)"
      ],
      "execution_count": null,
      "outputs": [
        {
          "output_type": "execute_result",
          "data": {
            "text/plain": [
              "0.6933635759258535"
            ]
          },
          "metadata": {
            "tags": []
          },
          "execution_count": 31
        }
      ]
    },
    {
      "cell_type": "code",
      "metadata": {
        "id": "pbpqlJj0cvYt"
      },
      "source": [
        "avg_k_vals=list([])\n",
        "float_range(avg_k_vals,0, 5, 0.1)\n",
        "avg_k_vals=[ float('%.1f' % elem) for elem in avg_k_vals ]"
      ],
      "execution_count": null,
      "outputs": []
    },
    {
      "cell_type": "code",
      "metadata": {
        "id": "XvrDNmzJdntW"
      },
      "source": [
        "dicto=defaultdict(lambda:0)\n",
        "\n",
        "for avg_k in avg_k_vals:\n",
        "  if avg_k==0:\n",
        "    dicto[avg_k]=0\n",
        "    continue\n",
        "\n",
        "  nodes=len(G.nodes())\n",
        "  edges=int(nodes*avg_k)//2\n",
        "  G_aux=igraph.Graph.Erdos_Renyi(n=nodes, m=edges)\n",
        "  lister=G_aux.get_edgelist()\n",
        "  G_aux = nx.from_edgelist(lister)\n",
        "\n",
        "  dicto[avg_k]=compute_ratio(G_aux)"
      ],
      "execution_count": null,
      "outputs": []
    },
    {
      "cell_type": "code",
      "metadata": {
        "colab": {
          "base_uri": "https://localhost:8080/"
        },
        "id": "GjRda5ZXepXe",
        "outputId": "9b994cda-6b92-4ae9-c2f6-f4d1d7986e01"
      },
      "source": [
        "print(dicto)"
      ],
      "execution_count": null,
      "outputs": [
        {
          "output_type": "stream",
          "text": [
            "defaultdict(<function <lambda> at 0x7fa5c7d49dd0>, {0.0: 0, 0.1: 0.0425531914893617, 0.2: 0.026881720430107527, 0.3: 0.019762845849802372, 0.4: 0.030959752321981424, 0.5: 0.019559902200488997, 0.6: 0.021834061135371178, 0.7: 0.042682926829268296, 0.8: 0.039711191335740074, 0.9: 0.11872909698996656, 1.0: 0.12848297213622292, 1.1: 0.27844311377245506, 1.2: 0.44803370786516855, 1.3: 0.502724795640327, 1.4: 0.7064220183486238, 1.5: 0.7797927461139896, 1.6: 0.8209331651954602, 1.7: 0.8260869565217391, 1.8: 0.905727923627685, 1.9: 0.877906976744186, 2.0: 0.9461626575028637, 2.1: 0.9426605504587156, 2.2: 0.9464285714285714, 2.3: 0.9730941704035875, 2.4: 0.9465648854961832, 2.5: 0.9847161572052402, 2.6: 0.9818181818181818, 2.7: 0.9736008447729673, 2.8: 0.9861849096705633, 2.9: 0.9936238044633369, 3.0: 0.9958202716823407, 3.1: 1.0, 3.2: 0.9917610710607621, 3.3: 0.9937759336099585, 3.4: 0.9877049180327869, 3.5: 0.9979423868312757, 3.6: 0.9979591836734694, 3.7: 0.9959183673469387, 3.8: 1.0, 3.9: 1.0, 4.0: 0.9979757085020243, 4.1: 0.9979716024340771, 4.2: 0.9979633401221996, 4.3: 0.9979674796747967, 4.4: 0.9979919678714859, 4.5: 1.0, 4.6: 1.0, 4.7: 1.0, 4.8: 1.0, 4.9: 1.0, 5.0: 1.0})\n"
          ],
          "name": "stdout"
        }
      ]
    },
    {
      "cell_type": "code",
      "metadata": {
        "colab": {
          "base_uri": "https://localhost:8080/",
          "height": 610
        },
        "id": "yDDtPK_CnBWk",
        "outputId": "4a6309fb-301f-4ede-95dd-c4472de98d5f"
      },
      "source": [
        "plt.figure(figsize=(20,10))\n",
        "\n",
        "sns.lineplot(x=dicto.keys(),y=dicto.values())"
      ],
      "execution_count": null,
      "outputs": [
        {
          "output_type": "execute_result",
          "data": {
            "text/plain": [
              "<matplotlib.axes._subplots.AxesSubplot at 0x7fa5c9b5fb50>"
            ]
          },
          "metadata": {
            "tags": []
          },
          "execution_count": 38
        },
        {
          "output_type": "display_data",
          "data": {
            "image/png": "[encoded data removed]",
            "text/plain": [
              "<Figure size 1440x720 with 1 Axes>"
            ]
          },
          "metadata": {
            "tags": [],
            "needs_background": "light"
          }
        }
      ]
    },
    {
      "cell_type": "code",
      "metadata": {
        "id": "1k7E-8VosH4A"
      },
      "source": [
        ""
      ],
      "execution_count": null,
      "outputs": []
    }
  ]
}