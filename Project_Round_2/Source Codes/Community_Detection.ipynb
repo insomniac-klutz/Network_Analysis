{
 "cells": [
  {
   "cell_type": "code",
   "execution_count": null,
   "metadata": {
    "id": "VyoTXYtntdC6"
   },
   "outputs": [],
   "source": [
    "import pandas as pd # Data I/O\n",
    "import numpy as np # Data Manipulation\n",
    "import itertools # Iteration Tools\n",
    "\n",
    "import networkx as nx # Network Ananlysis\n",
    "\n",
    "from sklearn.cluster import AgglomerativeClustering # Community Detection\n",
    "from sklearn.metrics.pairwise import pairwise_distances # Community Detection"
   ]
  },
  {
   "cell_type": "code",
   "execution_count": null,
   "metadata": {
    "id": "17tonQYFD3wq"
   },
   "outputs": [],
   "source": [
    "import seaborn as sns # Visualization"
   ]
  },
  {
   "cell_type": "code",
   "execution_count": null,
   "metadata": {
    "id": "nPCevUNZzHbw"
   },
   "outputs": [],
   "source": [
    "def compute_ratio(G):                   #Computes N_G/N\n",
    "  len_connected_components = [len(c) for c in sorted(nx.connected_components(G), key=len, reverse=True)]\n",
    "  len_giant_connected_component=len_connected_components[0]\n",
    "  ratio=len_giant_connected_component/len(G.nodes())\n",
    "  return ratio"
   ]
  },
  {
   "cell_type": "markdown",
   "metadata": {
    "id": "oSBd7mtxsNtl"
   },
   "source": [
    "<h1 align='center'>Dataset A - Twitter lists</h1>"
   ]
  },
  {
   "cell_type": "code",
   "execution_count": null,
   "metadata": {
    "id": "dYeHIvxRujAJ"
   },
   "outputs": [],
   "source": [
    "df_twitter=pd.read_csv('/content/Dataser_A_Twitter_List.tsv',sep='\\t',header=None)"
   ]
  },
  {
   "cell_type": "code",
   "execution_count": null,
   "metadata": {
    "id": "I_vHzWBHdfSN"
   },
   "outputs": [],
   "source": [
    "#Create Twitter Follower Graph\n",
    "\n",
    "fh = open(\"/content/Dataser_A_Twitter_List.tsv\", \"rb\")\n",
    "G1 = nx.read_edgelist(fh)\n",
    "fh.close()"
   ]
  },
  {
   "cell_type": "code",
   "execution_count": null,
   "metadata": {
    "colab": {
     "base_uri": "https://localhost:8080/"
    },
    "id": "cKwvraR8zLI7",
    "outputId": "35e76939-cd3a-420c-ea1d-036ef3cbac55"
   },
   "outputs": [
    {
     "data": {
      "text/plain": [
       "0.9551561831407788"
      ]
     },
     "execution_count": 8,
     "metadata": {
      "tags": []
     },
     "output_type": "execute_result"
    }
   ],
   "source": [
    "compute_ratio(G1)"
   ]
  },
  {
   "cell_type": "code",
   "execution_count": null,
   "metadata": {
    "id": "2MdTNmsFvHak"
   },
   "outputs": [],
   "source": [
    "def ravasz(x, y,G=G1):\n",
    "  if x==y:\n",
    "    return 0\n",
    "  \n",
    "  c_n=len(list(nx.common_neighbors(G1,str(int(x[0])),str(int(y[0])))))\n",
    "\n",
    "  if G1.has_edge(str(int(x[0])),str(int(y[0])))==True:\n",
    "    c_n+=1\n",
    "\n",
    "  u_d=G1.degree(str(int(x[0])))\n",
    "  v_d=G1.degree(str(int(y[0])))\n",
    "\n",
    "  tom= c_n/(min(u_d,v_d))#Topological overlap matrix entry\n",
    "\n",
    "  if tom!=0:\n",
    "    r=1/tom\n",
    "  else:\n",
    "    r=0\n",
    "\n",
    "  return r"
   ]
  },
  {
   "cell_type": "code",
   "execution_count": null,
   "metadata": {
    "id": "zkMmCrpqodW6"
   },
   "outputs": [],
   "source": [
    "X_Twitter=np.array(list(set((np.array(list(df_twitter[0].unique())+list(df_twitter[1].unique())))))).reshape(-1,1)"
   ]
  },
  {
   "cell_type": "code",
   "execution_count": null,
   "metadata": {
    "id": "dnRp0XQaeF2X"
   },
   "outputs": [],
   "source": [
    "agg = AgglomerativeClustering(n_clusters=23, affinity='precomputed',linkage='average')"
   ]
  },
  {
   "cell_type": "code",
   "execution_count": null,
   "metadata": {
    "id": "6ubo5f_2r-uR"
   },
   "outputs": [],
   "source": [
    "m = pairwise_distances(X_Twitter, X_Twitter, metric=ravasz)"
   ]
  },
  {
   "cell_type": "code",
   "execution_count": null,
   "metadata": {
    "id": "3LuInoUdsAxF"
   },
   "outputs": [],
   "source": [
    "u = agg.fit_predict(m)"
   ]
  },
  {
   "cell_type": "code",
   "execution_count": null,
   "metadata": {
    "id": "M6WEAKqSeUVP"
   },
   "outputs": [],
   "source": [
    "comp=nx.algorithms.community.centrality.girvan_newman(G1)"
   ]
  },
  {
   "cell_type": "code",
   "execution_count": null,
   "metadata": {
    "id": "VGvkQH1ihGy3"
   },
   "outputs": [],
   "source": [
    "k = 5 #steps = 5\n",
    "\n",
    "lister=[]\n",
    "\n",
    "for communities in itertools.islice(comp, k):\n",
    "  lister.append(tuple(sorted(c) for c in communities))"
   ]
  },
  {
   "cell_type": "code",
   "execution_count": null,
   "metadata": {
    "id": "UISQgVl33Z5p"
   },
   "outputs": [],
   "source": [
    "count_len_girvan=[]\n",
    "\n",
    "for i in lister:\n",
    "  count_len_girvan.append(len(i))"
   ]
  },
  {
   "cell_type": "code",
   "execution_count": null,
   "metadata": {
    "colab": {
     "base_uri": "https://localhost:8080/"
    },
    "id": "c5hFEB9tBAN9",
    "outputId": "04dbf36c-297d-4f29-aa30-91392fed4381"
   },
   "outputs": [
    {
     "data": {
      "text/plain": [
       "[19, 20, 21, 22, 23]"
      ]
     },
     "execution_count": 114,
     "metadata": {
      "tags": []
     },
     "output_type": "execute_result"
    }
   ],
   "source": [
    "count_len_girvan"
   ]
  },
  {
   "cell_type": "code",
   "execution_count": null,
   "metadata": {
    "id": "HuXzJKyzISjZ"
   },
   "outputs": [],
   "source": [
    "arr_r=[0 for _ in range(23)]\n",
    "\n",
    "for i in u:\n",
    "  arr_r[i]+=1"
   ]
  },
  {
   "cell_type": "code",
   "execution_count": null,
   "metadata": {
    "id": "YoMbsopbIWun"
   },
   "outputs": [],
   "source": [
    "arr_g=[0 for _ in range(23)]\n",
    "\n",
    "for i,x in enumerate(lister[4]):\n",
    "  arr_g[i]+=len(x)"
   ]
  },
  {
   "cell_type": "code",
   "execution_count": null,
   "metadata": {
    "id": "zgaCuXlgIFh2"
   },
   "outputs": [],
   "source": [
    "coms=[i for i in range(23)]\n",
    "coms=pd.Series(coms)"
   ]
  },
  {
   "cell_type": "code",
   "execution_count": null,
   "metadata": {
    "id": "VoHWEu2_IFh3"
   },
   "outputs": [],
   "source": [
    "arr_r=pd.Series(arr_r)"
   ]
  },
  {
   "cell_type": "code",
   "execution_count": null,
   "metadata": {
    "colab": {
     "base_uri": "https://localhost:8080/"
    },
    "id": "akXTyCVgIFh4",
    "outputId": "d56144ed-1c3f-4218-8992-e1949d704ef2"
   },
   "outputs": [
    {
     "data": {
      "text/plain": [
       "array([1034,   17,   13,    7,    8,    5,    7,    7,    7,    7,    8,\n",
       "          5,    7,    5,    7,    5,    5,    5,    7,    6,    7,    5,\n",
       "          7])"
      ]
     },
     "execution_count": 127,
     "metadata": {
      "tags": []
     },
     "output_type": "execute_result"
    }
   ],
   "source": [
    "arr_r.to_numpy()"
   ]
  },
  {
   "cell_type": "code",
   "execution_count": null,
   "metadata": {
    "colab": {
     "base_uri": "https://localhost:8080/",
     "height": 283
    },
    "id": "0tSHM5h6IFh5",
    "outputId": "51f7c93c-8762-4c57-9140-bef598a3049f"
   },
   "outputs": [
    {
     "data": {
      "text/plain": [
       "<matplotlib.axes._subplots.AxesSubplot at 0x7fe96cbbb190>"
      ]
     },
     "execution_count": 128,
     "metadata": {
      "tags": []
     },
     "output_type": "execute_result"
    },
    {
     "data": {
      "image/png": "[encoded data removed]",
      "text/plain": [
       "<Figure size 432x288 with 1 Axes>"
      ]
     },
     "metadata": {
      "needs_background": "light",
      "tags": []
     },
     "output_type": "display_data"
    }
   ],
   "source": [
    "sns.barplot(x=coms,y=arr_r)"
   ]
  },
  {
   "cell_type": "code",
   "execution_count": null,
   "metadata": {
    "id": "4MBRlRkUIFh5"
   },
   "outputs": [],
   "source": [
    "arr_g=pd.Series(arr_g)"
   ]
  },
  {
   "cell_type": "code",
   "execution_count": null,
   "metadata": {
    "colab": {
     "base_uri": "https://localhost:8080/"
    },
    "id": "JP0M7oFCIFh6",
    "outputId": "3500fc21-5b7c-418f-800a-ff72182413dc"
   },
   "outputs": [
    {
     "data": {
      "text/plain": [
       "array([ 80,  13, 113,  10,  40,  48,  93,  27,   5,  24, 149, 126,  19,\n",
       "       128,  19,  29,  20,  98,  81,  25,   2,  27,  15])"
      ]
     },
     "execution_count": 130,
     "metadata": {
      "tags": []
     },
     "output_type": "execute_result"
    }
   ],
   "source": [
    "arr_g.to_numpy()"
   ]
  },
  {
   "cell_type": "code",
   "execution_count": null,
   "metadata": {
    "colab": {
     "base_uri": "https://localhost:8080/",
     "height": 283
    },
    "id": "wJv5QrZxIFh6",
    "outputId": "ea2b9c07-7e8b-4212-8b9d-620c8b871abe"
   },
   "outputs": [
    {
     "data": {
      "text/plain": [
       "<matplotlib.axes._subplots.AxesSubplot at 0x7fe9676d8fd0>"
      ]
     },
     "execution_count": 131,
     "metadata": {
      "tags": []
     },
     "output_type": "execute_result"
    },
    {
     "data": {
      "image/png": "[encoded data removed]",
      "text/plain": [
       "<Figure size 432x288 with 1 Axes>"
      ]
     },
     "metadata": {
      "needs_background": "light",
      "tags": []
     },
     "output_type": "display_data"
    }
   ],
   "source": [
    "sns.barplot(x=coms,y=arr_g)"
   ]
  },
  {
   "cell_type": "markdown",
   "metadata": {
    "id": "q6vvPsz1tFR5"
   },
   "source": [
    "<h1 align='center'>Dataset B - Eu Email core network</h1>"
   ]
  },
  {
   "cell_type": "code",
   "execution_count": null,
   "metadata": {
    "id": "2Ch9bB9zmVVq"
   },
   "outputs": [],
   "source": [
    "#Create Email Follower Graph\n",
    "\n",
    "fh = open(\"/content/drive/MyDrive/Datasets/Networkx/Dataset_B_EU_Emails.txt\", \"rb\")\n",
    "G2 = nx.read_edgelist(fh)\n",
    "fh.close()"
   ]
  },
  {
   "cell_type": "code",
   "execution_count": null,
   "metadata": {
    "colab": {
     "base_uri": "https://localhost:8080/"
    },
    "id": "PyvBoVD0zTBI",
    "outputId": "62a8322e-5a9c-4b62-97cd-94922602069a"
   },
   "outputs": [
    {
     "data": {
      "text/plain": [
       "0.981094527363184"
      ]
     },
     "execution_count": 11,
     "metadata": {
      "tags": []
     },
     "output_type": "execute_result"
    }
   ],
   "source": [
    "compute_ratio(G2)"
   ]
  },
  {
   "cell_type": "code",
   "execution_count": null,
   "metadata": {
    "id": "nTTo4BT3mU5m"
   },
   "outputs": [],
   "source": [
    "df_email=pd.read_csv('/content/drive/MyDrive/Datasets/Networkx/Dataset_B_EU_Emails.csv',header=None)"
   ]
  },
  {
   "cell_type": "code",
   "execution_count": null,
   "metadata": {
    "id": "Xqrga8kcq9Ep"
   },
   "outputs": [],
   "source": [
    "def ravasz(x, y,G=G2):\n",
    "  if x==y:\n",
    "    return 0\n",
    "  \n",
    "  c_n=len(list(nx.common_neighbors(G2,str(int(x[0])),str(int(y[0])))))\n",
    "\n",
    "  if G2.has_edge(str(int(x[0])),str(int(y[0])))==True:\n",
    "    c_n+=1\n",
    "\n",
    "  u_d=G2.degree(str(int(x[0])))\n",
    "  v_d=G2.degree(str(int(y[0])))\n",
    "\n",
    "  tom= c_n/(min(u_d,v_d))#Topological overlap matrix entry\n",
    "\n",
    "  if tom!=0:\n",
    "    r=1/tom\n",
    "  else:\n",
    "    r=0\n",
    "\n",
    "  return r"
   ]
  },
  {
   "cell_type": "code",
   "execution_count": null,
   "metadata": {
    "id": "SV8AsXw8hQtK"
   },
   "outputs": [],
   "source": [
    "X_Email=np.array(list(set((np.array(list(df_email[0].unique())+list(df_email[1].unique())))))).reshape(-1,1)"
   ]
  },
  {
   "cell_type": "code",
   "execution_count": null,
   "metadata": {
    "id": "t8Eie56BsF9Q"
   },
   "outputs": [],
   "source": [
    "m = pairwise_distances(X_Email, X_Email, metric=ravasz)"
   ]
  },
  {
   "cell_type": "code",
   "execution_count": null,
   "metadata": {
    "id": "fNUTlQLBp-Ph"
   },
   "outputs": [],
   "source": [
    "agg = AgglomerativeClustering(n_clusters=25, affinity='precomputed',linkage='average')"
   ]
  },
  {
   "cell_type": "code",
   "execution_count": null,
   "metadata": {
    "id": "g_fdv66OsHk6"
   },
   "outputs": [],
   "source": [
    "u = agg.fit_predict(m)"
   ]
  },
  {
   "cell_type": "code",
   "execution_count": null,
   "metadata": {
    "colab": {
     "base_uri": "https://localhost:8080/"
    },
    "id": "7QprflJ_DgoC",
    "outputId": "d2e17aab-a0f0-4918-f054-3b43e2e37379"
   },
   "outputs": [
    {
     "data": {
      "text/plain": [
       "[24,\n",
       " 14,\n",
       " 794,\n",
       " 5,\n",
       " 16,\n",
       " 13,\n",
       " 6,\n",
       " 18,\n",
       " 8,\n",
       " 7,\n",
       " 9,\n",
       " 7,\n",
       " 5,\n",
       " 4,\n",
       " 9,\n",
       " 3,\n",
       " 4,\n",
       " 4,\n",
       " 13,\n",
       " 5,\n",
       " 4,\n",
       " 13,\n",
       " 7,\n",
       " 6,\n",
       " 7]"
      ]
     },
     "execution_count": 82,
     "metadata": {
      "tags": []
     },
     "output_type": "execute_result"
    }
   ],
   "source": [
    "arr_r"
   ]
  },
  {
   "cell_type": "code",
   "execution_count": null,
   "metadata": {
    "id": "Rs39HZ4UrV8i"
   },
   "outputs": [],
   "source": [
    "comp=nx.algorithms.community.centrality.girvan_newman(G2)"
   ]
  },
  {
   "cell_type": "code",
   "execution_count": null,
   "metadata": {
    "id": "s5j6rF89rYSb"
   },
   "outputs": [],
   "source": [
    "k = 5 #steps = 5\n",
    "\n",
    "lister=[]\n",
    "\n",
    "for communities in itertools.islice(comp, k):\n",
    "  lister.append(tuple(sorted(c) for c in communities))"
   ]
  },
  {
   "cell_type": "code",
   "execution_count": null,
   "metadata": {
    "id": "qzjrVjKmrkWt"
   },
   "outputs": [],
   "source": [
    "count_len_girvan=[]\n",
    "\n",
    "for i in lister:\n",
    "  count_len_girvan.append(len(i))"
   ]
  },
  {
   "cell_type": "code",
   "execution_count": null,
   "metadata": {
    "colab": {
     "base_uri": "https://localhost:8080/"
    },
    "id": "8xisdmhD2dMM",
    "outputId": "7ff57246-a4ca-4558-f2ae-c53a3d27b534"
   },
   "outputs": [
    {
     "data": {
      "text/plain": [
       "[21, 22, 23, 24, 25]"
      ]
     },
     "execution_count": 68,
     "metadata": {
      "tags": []
     },
     "output_type": "execute_result"
    }
   ],
   "source": [
    "count_len_girvan"
   ]
  },
  {
   "cell_type": "code",
   "execution_count": null,
   "metadata": {
    "id": "MU-f1astDLb8"
   },
   "outputs": [],
   "source": [
    "arr_r=[0 for _ in range(25)]\n",
    "\n",
    "for i in u:\n",
    "  arr_r[i]+=1"
   ]
  },
  {
   "cell_type": "code",
   "execution_count": null,
   "metadata": {
    "id": "C_P5yJO6BqkB"
   },
   "outputs": [],
   "source": [
    "arr_g=[0 for _ in range(25)]\n",
    "\n",
    "for i,x in enumerate(lister[4]):\n",
    "  arr_g[i]+=len(x)"
   ]
  },
  {
   "cell_type": "code",
   "execution_count": null,
   "metadata": {
    "id": "1msqgETCEjJs"
   },
   "outputs": [],
   "source": [
    "coms=[i for i in range(25)]\n",
    "coms=pd.Series(coms)"
   ]
  },
  {
   "cell_type": "code",
   "execution_count": null,
   "metadata": {
    "id": "eFum328ME5LN"
   },
   "outputs": [],
   "source": [
    "arr_r=pd.Series(arr_r)"
   ]
  },
  {
   "cell_type": "code",
   "execution_count": null,
   "metadata": {
    "colab": {
     "base_uri": "https://localhost:8080/"
    },
    "id": "gKzDUi4qE5u_",
    "outputId": "c4ec13d5-584e-4c37-c50e-3c2738b3fa6f"
   },
   "outputs": [
    {
     "data": {
      "text/plain": [
       "array([ 24,  14, 794,   5,  16,  13,   6,  18,   8,   7,   9,   7,   5,\n",
       "         4,   9,   3,   4,   4,  13,   5,   4,  13,   7,   6,   7])"
      ]
     },
     "execution_count": 100,
     "metadata": {
      "tags": []
     },
     "output_type": "execute_result"
    }
   ],
   "source": [
    "arr_r.to_numpy()"
   ]
  },
  {
   "cell_type": "code",
   "execution_count": null,
   "metadata": {
    "colab": {
     "base_uri": "https://localhost:8080/",
     "height": 283
    },
    "id": "dASRNGYcE51u",
    "outputId": "08cad2e3-efa8-4cc3-d7f8-7759444d7fd7"
   },
   "outputs": [
    {
     "data": {
      "text/plain": [
       "<matplotlib.axes._subplots.AxesSubplot at 0x7fe96cd15110>"
      ]
     },
     "execution_count": 102,
     "metadata": {
      "tags": []
     },
     "output_type": "execute_result"
    },
    {
     "data": {
      "image/png": "[encoded data removed]",
      "text/plain": [
       "<Figure size 432x288 with 1 Axes>"
      ]
     },
     "metadata": {
      "needs_background": "light",
      "tags": []
     },
     "output_type": "display_data"
    }
   ],
   "source": [
    "sns.barplot(x=coms,y=arr_r)"
   ]
  },
  {
   "cell_type": "code",
   "execution_count": null,
   "metadata": {
    "id": "JHn-QDepERLb"
   },
   "outputs": [],
   "source": [
    "arr_g=pd.Series(arr_g)"
   ]
  },
  {
   "cell_type": "code",
   "execution_count": null,
   "metadata": {
    "colab": {
     "base_uri": "https://localhost:8080/"
    },
    "id": "daS2_k_oEvdt",
    "outputId": "e543197c-42a1-434f-c6ef-3ee018b0a383"
   },
   "outputs": [
    {
     "data": {
      "text/plain": [
       "array([976,   6,   1,   1,   1,   1,   1,   1,   1,   1,   1,   1,   1,\n",
       "         1,   1,   1,   1,   1,   1,   1,   1,   1,   1,   1,   1])"
      ]
     },
     "execution_count": 98,
     "metadata": {
      "tags": []
     },
     "output_type": "execute_result"
    }
   ],
   "source": [
    "arr_g.to_numpy()"
   ]
  },
  {
   "cell_type": "code",
   "execution_count": null,
   "metadata": {
    "colab": {
     "base_uri": "https://localhost:8080/",
     "height": 283
    },
    "id": "KeJd5CzxD7c0",
    "outputId": "83e992bd-e67b-4be7-c5e1-84c4bddc98cc"
   },
   "outputs": [
    {
     "data": {
      "text/plain": [
       "<matplotlib.axes._subplots.AxesSubplot at 0x7fe96cdff510>"
      ]
     },
     "execution_count": 96,
     "metadata": {
      "tags": []
     },
     "output_type": "execute_result"
    },
    {
     "data": {
      "image/png": "[encoded data removed]",
      "text/plain": [
       "<Figure size 432x288 with 1 Axes>"
      ]
     },
     "metadata": {
      "needs_background": "light",
      "tags": []
     },
     "output_type": "display_data"
    }
   ],
   "source": [
    "sns.barplot(x=coms,y=arr_g)"
   ]
  },
  {
   "cell_type": "code",
   "execution_count": null,
   "metadata": {
    "id": "OmSCkfeLEJNT"
   },
   "outputs": [],
   "source": []
  }
 ],
 "metadata": {
  "colab": {
   "collapsed_sections": [],
   "name": "Community Detection.ipynb",
   "provenance": []
  },
  "kernelspec": {
   "display_name": "Python 3",
   "language": "python",
   "name": "python3"
  },
  "language_info": {
   "codemirror_mode": {
    "name": "ipython",
    "version": 3
   },
   "file_extension": ".py",
   "mimetype": "text/x-python",
   "name": "python",
   "nbconvert_exporter": "python",
   "pygments_lexer": "ipython3",
   "version": "3.8.5"
  }
 },
 "nbformat": 4,
 "nbformat_minor": 1
}
